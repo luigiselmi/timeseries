{
 "cells": [
  {
   "cell_type": "markdown",
   "id": "f5076467-165a-4c92-a72c-2e3f635857e6",
   "metadata": {},
   "source": [
    "# Multivariate time series\n",
    "In many fields of science and economics we want to predict the future values of more than one predictand that are related to each other. The relationship is bidirectional so we cannot use the univariate models with exogenous variables (SARIMAX). The most simple model to address the multivariate time series problem is the [vector autoregression](https://en.wikipedia.org/wiki/Vector_autoregression) model. "
   ]
  },
  {
   "cell_type": "code",
   "execution_count": null,
   "id": "aa1566ff-3fe3-4262-b2d6-5b8be6bf00af",
   "metadata": {},
   "outputs": [],
   "source": []
  }
 ],
 "metadata": {
  "kernelspec": {
   "display_name": "Python 3 (ipykernel)",
   "language": "python",
   "name": "python3"
  },
  "language_info": {
   "codemirror_mode": {
    "name": "ipython",
    "version": 3
   },
   "file_extension": ".py",
   "mimetype": "text/x-python",
   "name": "python",
   "nbconvert_exporter": "python",
   "pygments_lexer": "ipython3",
   "version": "3.12.5"
  }
 },
 "nbformat": 4,
 "nbformat_minor": 5
}

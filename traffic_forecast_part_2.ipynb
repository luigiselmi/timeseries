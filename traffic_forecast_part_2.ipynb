{
 "cells": [
  {
   "cell_type": "markdown",
   "id": "3df2a345-cb56-412b-b8e6-d0a40fefc61e",
   "metadata": {},
   "source": [
    "# Metro Interstate Traffic Volume Forecasting (Part 2)\n",
    "This notebook is based on chapter 13 of the book [*Time Series Forecasting in Python*](https://www.manning.com/books/time-series-forecasting-in-python-book) by Marco Peixeiro."
   ]
  },
  {
   "cell_type": "code",
   "execution_count": 1,
   "id": "a71a77ee-9bab-4365-98c0-9d900ff8aae0",
   "metadata": {},
   "outputs": [
    {
     "name": "stdout",
     "output_type": "stream",
     "text": [
      "NumPy version: 1.26.4\n",
      "Pandas version: 2.2.2\n",
      "matplotlib version: 3.8.4\n"
     ]
    }
   ],
   "source": [
    "import numpy as np\n",
    "import pandas as pd\n",
    "import matplotlib as mpl\n",
    "import matplotlib.pyplot as plt\n",
    "import datetime\n",
    "#import tensorflow as tf\n",
    "print(\"NumPy version: %s\"%np.__version__)\n",
    "print('Pandas version: %s'%pd.__version__)\n",
    "print(\"matplotlib version: %s\"%mpl.__version__)"
   ]
  },
  {
   "cell_type": "code",
   "execution_count": null,
   "id": "0b4818cf-9279-46ba-8683-a7739f0b1482",
   "metadata": {},
   "outputs": [],
   "source": []
  }
 ],
 "metadata": {
  "kernelspec": {
   "display_name": "Python 3 (ipykernel)",
   "language": "python",
   "name": "python3"
  },
  "language_info": {
   "codemirror_mode": {
    "name": "ipython",
    "version": 3
   },
   "file_extension": ".py",
   "mimetype": "text/x-python",
   "name": "python",
   "nbconvert_exporter": "python",
   "pygments_lexer": "ipython3",
   "version": "3.12.5"
  }
 },
 "nbformat": 4,
 "nbformat_minor": 5
}

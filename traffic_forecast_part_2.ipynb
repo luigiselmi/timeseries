{
  "cells": [
    {
      "cell_type": "markdown",
      "metadata": {
        "id": "view-in-github",
        "colab_type": "text"
      },
      "source": [
        "<a href=\"https://colab.research.google.com/github/luigiselmi/timeseries/blob/main/traffic_forecast_part_2.ipynb\" target=\"_parent\"><img src=\"https://colab.research.google.com/assets/colab-badge.svg\" alt=\"Open In Colab\"/></a>"
      ]
    },
    {
      "cell_type": "markdown",
      "id": "3df2a345-cb56-412b-b8e6-d0a40fefc61e",
      "metadata": {
        "id": "3df2a345-cb56-412b-b8e6-d0a40fefc61e"
      },
      "source": [
        "# Metro Interstate Traffic Volume Forecasting (Part 2)\n",
        "This notebook is based on chapter 13 of the book [*Time Series Forecasting in Python*](https://www.manning.com/books/time-series-forecasting-in-python-book) by Marco Peixeiro. Classical algorithms for time series forecasting, are\n",
        "\n",
        "* $Moving Average MA(q)$\n",
        "* $Auto Regressive AR(p)$\n",
        "* $Autoregressive Moving Average ARMA(p,q)$\n",
        "* $Autoregressive Integrated Moving Average ARIMA(p,d,q)$\n",
        "* $SARIMA(p,d,q)(P,D,Q)_m$\n",
        "* $SARIMAX$\n",
        "\n",
        "where q is the order, or lag, of the time series, that is the number of previous elements in the series that are used for the forecast, p is the autocorrelation order, that is number of elements that are correlated. These models try to fit a set of basis functions to the data depending on the chosen order $(p,d,q)(P,D,Q)_m$. With the neural networks we fit an unknown nonlinear function to the data.\n"
      ]
    },
    {
      "cell_type": "code",
      "execution_count": 1,
      "id": "a71a77ee-9bab-4365-98c0-9d900ff8aae0",
      "metadata": {
        "colab": {
          "base_uri": "https://localhost:8080/"
        },
        "id": "a71a77ee-9bab-4365-98c0-9d900ff8aae0",
        "outputId": "4e562588-e820-499a-ae16-eadc60921614"
      },
      "outputs": [
        {
          "output_type": "stream",
          "name": "stdout",
          "text": [
            "NumPy version: 1.26.4\n",
            "Pandas version: 2.2.2\n",
            "matplotlib version: 3.10.0\n"
          ]
        }
      ],
      "source": [
        "import numpy as np\n",
        "import pandas as pd\n",
        "import matplotlib as mpl\n",
        "import matplotlib.pyplot as plt\n",
        "import datetime\n",
        "#import tensorflow as tf\n",
        "print(\"NumPy version: %s\"%np.__version__)\n",
        "print('Pandas version: %s'%pd.__version__)\n",
        "print(\"matplotlib version: %s\"%mpl.__version__)"
      ]
    },
    {
      "cell_type": "markdown",
      "source": [
        "## Data windowing\n",
        "In order to train a model we split the data into time windows of the same length, for instance 24 hours. If the task is multistep forecasting, we use e.g. 24 hours as input data and the next 24 hours as target values so that a data window contains 48 hours. For example, the 1st window uses 48 hours starting from the 1st hour, the 2nd window uses 48 hours starting from the 2nd hour and so on. We can create batches using a certain number of data windows, e.g. 32 data windows. The order for each data window cannot be changed but the order of the data windows in a batch can be shuffled."
      ],
      "metadata": {
        "id": "bIyfu8Nm-8py"
      },
      "id": "bIyfu8Nm-8py"
    },
    {
      "cell_type": "code",
      "execution_count": null,
      "id": "0b4818cf-9279-46ba-8683-a7739f0b1482",
      "metadata": {
        "id": "0b4818cf-9279-46ba-8683-a7739f0b1482"
      },
      "outputs": [],
      "source": []
    }
  ],
  "metadata": {
    "kernelspec": {
      "display_name": "Python 3 (ipykernel)",
      "language": "python",
      "name": "python3"
    },
    "language_info": {
      "codemirror_mode": {
        "name": "ipython",
        "version": 3
      },
      "file_extension": ".py",
      "mimetype": "text/x-python",
      "name": "python",
      "nbconvert_exporter": "python",
      "pygments_lexer": "ipython3",
      "version": "3.12.5"
    },
    "colab": {
      "provenance": [],
      "include_colab_link": true
    }
  },
  "nbformat": 4,
  "nbformat_minor": 5
}
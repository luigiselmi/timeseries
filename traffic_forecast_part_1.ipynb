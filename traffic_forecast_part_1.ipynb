{
  "cells": [
    {
      "cell_type": "markdown",
      "metadata": {
        "id": "view-in-github",
        "colab_type": "text"
      },
      "source": [
        "<a href=\"https://colab.research.google.com/github/luigiselmi/timeseries/blob/main/traffic_forecast_part_1.ipynb\" target=\"_parent\"><img src=\"https://colab.research.google.com/assets/colab-badge.svg\" alt=\"Open In Colab\"/></a>"
      ]
    },
    {
      "cell_type": "markdown",
      "id": "9910c597-fb85-46d5-8780-2477cc9b1655",
      "metadata": {
        "id": "9910c597-fb85-46d5-8780-2477cc9b1655"
      },
      "source": [
        "# Metro Interstate Traffic Volume Forecasting (Part 1)\n",
        "This notebook is based on chapter 12 of the book [*Time Series Forecasting in Python*](https://www.manning.com/books/time-series-forecasting-in-python-book) by Marco Peixeiro. We use a dataset for traffic forecasting. The dataset is available from the [UCI machine learning repository](https://archive.ics.uci.edu/dataset/492/metro+interstate+traffic+volume). It contains hourly Interstate 94 Westbound traffic volume, from October 2nd 2012 to September 30 2018, for MN DoT ATR station 301, roughly midway between Minneapolis and St Paul, MN. Hourly weather features and holidays included for impacts on traffic volume. The dataset does not contain missing values. We use a Python package to fetch the data from the UCI repository."
      ]
    },
    {
      "cell_type": "markdown",
      "id": "2118952f-009a-4413-8c26-f8df3fc8edd8",
      "metadata": {
        "id": "2118952f-009a-4413-8c26-f8df3fc8edd8"
      },
      "source": [
        "## The dataset\n",
        "The dataset contains several variables that are used as features such as the meteorological variables and the type of day, holiday or not, and the traffic volume that is used as the target variable."
      ]
    },
    {
      "cell_type": "code",
      "source": [
        "!pip3 install -U ucimlrepo"
      ],
      "metadata": {
        "id": "OVXEdg9burk3",
        "outputId": "f4d02a8b-52c7-44f8-d7aa-9c0c68f049dc",
        "colab": {
          "base_uri": "https://localhost:8080/"
        }
      },
      "id": "OVXEdg9burk3",
      "execution_count": 2,
      "outputs": [
        {
          "output_type": "stream",
          "name": "stdout",
          "text": [
            "Collecting ucimlrepo\n",
            "  Downloading ucimlrepo-0.0.7-py3-none-any.whl.metadata (5.5 kB)\n",
            "Requirement already satisfied: pandas>=1.0.0 in /usr/local/lib/python3.11/dist-packages (from ucimlrepo) (2.2.2)\n",
            "Requirement already satisfied: certifi>=2020.12.5 in /usr/local/lib/python3.11/dist-packages (from ucimlrepo) (2025.1.31)\n",
            "Requirement already satisfied: numpy>=1.23.2 in /usr/local/lib/python3.11/dist-packages (from pandas>=1.0.0->ucimlrepo) (1.26.4)\n",
            "Requirement already satisfied: python-dateutil>=2.8.2 in /usr/local/lib/python3.11/dist-packages (from pandas>=1.0.0->ucimlrepo) (2.8.2)\n",
            "Requirement already satisfied: pytz>=2020.1 in /usr/local/lib/python3.11/dist-packages (from pandas>=1.0.0->ucimlrepo) (2025.1)\n",
            "Requirement already satisfied: tzdata>=2022.7 in /usr/local/lib/python3.11/dist-packages (from pandas>=1.0.0->ucimlrepo) (2025.1)\n",
            "Requirement already satisfied: six>=1.5 in /usr/local/lib/python3.11/dist-packages (from python-dateutil>=2.8.2->pandas>=1.0.0->ucimlrepo) (1.17.0)\n",
            "Downloading ucimlrepo-0.0.7-py3-none-any.whl (8.0 kB)\n",
            "Installing collected packages: ucimlrepo\n",
            "Successfully installed ucimlrepo-0.0.7\n"
          ]
        }
      ]
    },
    {
      "cell_type": "code",
      "execution_count": 3,
      "id": "edfd0eb6-4eb6-4ab7-8715-cf5e59c661eb",
      "metadata": {
        "id": "edfd0eb6-4eb6-4ab7-8715-cf5e59c661eb",
        "outputId": "9fbac4cd-6970-4e71-96b0-fe318b83cbee",
        "colab": {
          "base_uri": "https://localhost:8080/"
        }
      },
      "outputs": [
        {
          "output_type": "stream",
          "name": "stdout",
          "text": [
            "NumPy version: 1.26.4\n",
            "Pandas version: 2.2.2\n",
            "matplotlib version: 3.10.0\n"
          ]
        }
      ],
      "source": [
        "from ucimlrepo import fetch_ucirepo\n",
        "import numpy as np\n",
        "import pandas as pd\n",
        "import matplotlib as mpl\n",
        "import matplotlib.pyplot as plt\n",
        "import datetime\n",
        "#import tensorflow as tf\n",
        "print(\"NumPy version: %s\"%np.__version__)\n",
        "print('Pandas version: %s'%pd.__version__)\n",
        "print(\"matplotlib version: %s\"%mpl.__version__)"
      ]
    },
    {
      "cell_type": "code",
      "execution_count": 4,
      "id": "683f8714-3bb2-44fa-87ea-8078ee6fe469",
      "metadata": {
        "id": "683f8714-3bb2-44fa-87ea-8078ee6fe469"
      },
      "outputs": [],
      "source": [
        "# fetch dataset\n",
        "metro_interstate_traffic_volume = fetch_ucirepo(id=492)"
      ]
    },
    {
      "cell_type": "code",
      "execution_count": null,
      "id": "7ab8e7d4-75b5-484b-9176-3018f77e000f",
      "metadata": {
        "id": "7ab8e7d4-75b5-484b-9176-3018f77e000f"
      },
      "outputs": [],
      "source": [
        "# metadata\n",
        "#print(metro_interstate_traffic_volume.metadata)"
      ]
    },
    {
      "cell_type": "code",
      "execution_count": null,
      "id": "32f8e3e0-2f1a-44a4-9ba8-7007e3aa4537",
      "metadata": {
        "id": "32f8e3e0-2f1a-44a4-9ba8-7007e3aa4537",
        "outputId": "b1c2aa9b-d210-4813-d3dc-9f1dd19c563b"
      },
      "outputs": [
        {
          "name": "stdout",
          "output_type": "stream",
          "text": [
            "                  name     role         type demographic  \\\n",
            "0              holiday  Feature  Categorical        None   \n",
            "1                 temp  Feature   Continuous        None   \n",
            "2              rain_1h  Feature   Continuous        None   \n",
            "3              snow_1h  Feature   Continuous        None   \n",
            "4           clouds_all  Feature      Integer        None   \n",
            "5         weather_main  Feature  Categorical        None   \n",
            "6  weather_description  Feature  Categorical        None   \n",
            "7            date_time  Feature         Date        None   \n",
            "8       traffic_volume   Target      Integer        None   \n",
            "\n",
            "                                         description   units missing_values  \n",
            "0  US National holidays plus regional holiday, Mi...    None             no  \n",
            "1                             Average temp in kelvin  Kelvin             no  \n",
            "2     Amount in mm of rain that occurred in the hour      mm             no  \n",
            "3     Amount in mm of snow that occurred in the hour      mm             no  \n",
            "4                          Percentage of cloud cover       %             no  \n",
            "5   Short textual description of the current weather    None             no  \n",
            "6  Longer textual description of the current weather    None             no  \n",
            "7       Hour of the data collected in local CST time    None             no  \n",
            "8  Hourly I-94 ATR 301 reported westbound traffic...    None             no  \n"
          ]
        }
      ],
      "source": [
        "print(metro_interstate_traffic_volume.variables)"
      ]
    },
    {
      "cell_type": "code",
      "execution_count": null,
      "id": "6cb049a1-9bcf-43a6-8580-41d58e0764cd",
      "metadata": {
        "id": "6cb049a1-9bcf-43a6-8580-41d58e0764cd"
      },
      "outputs": [],
      "source": [
        "# data (as pandas dataframes)\n",
        "X = metro_interstate_traffic_volume.data.features\n",
        "y = metro_interstate_traffic_volume.data.targets"
      ]
    },
    {
      "cell_type": "code",
      "execution_count": null,
      "id": "7d50c7aa-4a43-40b6-a8f7-75e02a69bb08",
      "metadata": {
        "id": "7d50c7aa-4a43-40b6-a8f7-75e02a69bb08",
        "outputId": "ad298699-2080-4de0-b2ad-8b68089533ad"
      },
      "outputs": [
        {
          "data": {
            "text/plain": [
              "dict_keys(['data', 'metadata', 'variables'])"
            ]
          },
          "execution_count": 20,
          "metadata": {},
          "output_type": "execute_result"
        }
      ],
      "source": [
        "metro_interstate_traffic_volume.keys()"
      ]
    },
    {
      "cell_type": "markdown",
      "id": "06c981b8-20ae-4240-a1b6-e5903f44d78b",
      "metadata": {
        "id": "06c981b8-20ae-4240-a1b6-e5903f44d78b"
      },
      "source": [
        "The variables are divided into features and target"
      ]
    },
    {
      "cell_type": "code",
      "execution_count": null,
      "id": "64a39257-c50b-428b-862c-5123659f7ab7",
      "metadata": {
        "id": "64a39257-c50b-428b-862c-5123659f7ab7",
        "outputId": "9bfd9353-9b56-452c-d054-732347529319"
      },
      "outputs": [
        {
          "data": {
            "text/html": [
              "<div>\n",
              "<style scoped>\n",
              "    .dataframe tbody tr th:only-of-type {\n",
              "        vertical-align: middle;\n",
              "    }\n",
              "\n",
              "    .dataframe tbody tr th {\n",
              "        vertical-align: top;\n",
              "    }\n",
              "\n",
              "    .dataframe thead th {\n",
              "        text-align: right;\n",
              "    }\n",
              "</style>\n",
              "<table border=\"1\" class=\"dataframe\">\n",
              "  <thead>\n",
              "    <tr style=\"text-align: right;\">\n",
              "      <th></th>\n",
              "      <th>name</th>\n",
              "      <th>role</th>\n",
              "      <th>type</th>\n",
              "      <th>demographic</th>\n",
              "      <th>description</th>\n",
              "      <th>units</th>\n",
              "      <th>missing_values</th>\n",
              "    </tr>\n",
              "  </thead>\n",
              "  <tbody>\n",
              "    <tr>\n",
              "      <th>0</th>\n",
              "      <td>holiday</td>\n",
              "      <td>Feature</td>\n",
              "      <td>Categorical</td>\n",
              "      <td>None</td>\n",
              "      <td>US National holidays plus regional holiday, Mi...</td>\n",
              "      <td>None</td>\n",
              "      <td>no</td>\n",
              "    </tr>\n",
              "    <tr>\n",
              "      <th>1</th>\n",
              "      <td>temp</td>\n",
              "      <td>Feature</td>\n",
              "      <td>Continuous</td>\n",
              "      <td>None</td>\n",
              "      <td>Average temp in kelvin</td>\n",
              "      <td>Kelvin</td>\n",
              "      <td>no</td>\n",
              "    </tr>\n",
              "    <tr>\n",
              "      <th>2</th>\n",
              "      <td>rain_1h</td>\n",
              "      <td>Feature</td>\n",
              "      <td>Continuous</td>\n",
              "      <td>None</td>\n",
              "      <td>Amount in mm of rain that occurred in the hour</td>\n",
              "      <td>mm</td>\n",
              "      <td>no</td>\n",
              "    </tr>\n",
              "    <tr>\n",
              "      <th>3</th>\n",
              "      <td>snow_1h</td>\n",
              "      <td>Feature</td>\n",
              "      <td>Continuous</td>\n",
              "      <td>None</td>\n",
              "      <td>Amount in mm of snow that occurred in the hour</td>\n",
              "      <td>mm</td>\n",
              "      <td>no</td>\n",
              "    </tr>\n",
              "    <tr>\n",
              "      <th>4</th>\n",
              "      <td>clouds_all</td>\n",
              "      <td>Feature</td>\n",
              "      <td>Integer</td>\n",
              "      <td>None</td>\n",
              "      <td>Percentage of cloud cover</td>\n",
              "      <td>%</td>\n",
              "      <td>no</td>\n",
              "    </tr>\n",
              "    <tr>\n",
              "      <th>5</th>\n",
              "      <td>weather_main</td>\n",
              "      <td>Feature</td>\n",
              "      <td>Categorical</td>\n",
              "      <td>None</td>\n",
              "      <td>Short textual description of the current weather</td>\n",
              "      <td>None</td>\n",
              "      <td>no</td>\n",
              "    </tr>\n",
              "    <tr>\n",
              "      <th>6</th>\n",
              "      <td>weather_description</td>\n",
              "      <td>Feature</td>\n",
              "      <td>Categorical</td>\n",
              "      <td>None</td>\n",
              "      <td>Longer textual description of the current weather</td>\n",
              "      <td>None</td>\n",
              "      <td>no</td>\n",
              "    </tr>\n",
              "    <tr>\n",
              "      <th>7</th>\n",
              "      <td>date_time</td>\n",
              "      <td>Feature</td>\n",
              "      <td>Date</td>\n",
              "      <td>None</td>\n",
              "      <td>Hour of the data collected in local CST time</td>\n",
              "      <td>None</td>\n",
              "      <td>no</td>\n",
              "    </tr>\n",
              "    <tr>\n",
              "      <th>8</th>\n",
              "      <td>traffic_volume</td>\n",
              "      <td>Target</td>\n",
              "      <td>Integer</td>\n",
              "      <td>None</td>\n",
              "      <td>Hourly I-94 ATR 301 reported westbound traffic...</td>\n",
              "      <td>None</td>\n",
              "      <td>no</td>\n",
              "    </tr>\n",
              "  </tbody>\n",
              "</table>\n",
              "</div>"
            ],
            "text/plain": [
              "                  name     role         type demographic  \\\n",
              "0              holiday  Feature  Categorical        None   \n",
              "1                 temp  Feature   Continuous        None   \n",
              "2              rain_1h  Feature   Continuous        None   \n",
              "3              snow_1h  Feature   Continuous        None   \n",
              "4           clouds_all  Feature      Integer        None   \n",
              "5         weather_main  Feature  Categorical        None   \n",
              "6  weather_description  Feature  Categorical        None   \n",
              "7            date_time  Feature         Date        None   \n",
              "8       traffic_volume   Target      Integer        None   \n",
              "\n",
              "                                         description   units missing_values  \n",
              "0  US National holidays plus regional holiday, Mi...    None             no  \n",
              "1                             Average temp in kelvin  Kelvin             no  \n",
              "2     Amount in mm of rain that occurred in the hour      mm             no  \n",
              "3     Amount in mm of snow that occurred in the hour      mm             no  \n",
              "4                          Percentage of cloud cover       %             no  \n",
              "5   Short textual description of the current weather    None             no  \n",
              "6  Longer textual description of the current weather    None             no  \n",
              "7       Hour of the data collected in local CST time    None             no  \n",
              "8  Hourly I-94 ATR 301 reported westbound traffic...    None             no  "
            ]
          },
          "execution_count": 21,
          "metadata": {},
          "output_type": "execute_result"
        }
      ],
      "source": [
        "metro_interstate_traffic_volume.variables"
      ]
    },
    {
      "cell_type": "code",
      "execution_count": null,
      "id": "ed944105-1027-4571-85eb-165add19eb14",
      "metadata": {
        "id": "ed944105-1027-4571-85eb-165add19eb14",
        "outputId": "946e4927-4a11-4139-e44b-efb511dfdd0d"
      },
      "outputs": [
        {
          "data": {
            "text/html": [
              "<div>\n",
              "<style scoped>\n",
              "    .dataframe tbody tr th:only-of-type {\n",
              "        vertical-align: middle;\n",
              "    }\n",
              "\n",
              "    .dataframe tbody tr th {\n",
              "        vertical-align: top;\n",
              "    }\n",
              "\n",
              "    .dataframe thead th {\n",
              "        text-align: right;\n",
              "    }\n",
              "</style>\n",
              "<table border=\"1\" class=\"dataframe\">\n",
              "  <thead>\n",
              "    <tr style=\"text-align: right;\">\n",
              "      <th></th>\n",
              "      <th>holiday</th>\n",
              "      <th>temp</th>\n",
              "      <th>rain_1h</th>\n",
              "      <th>snow_1h</th>\n",
              "      <th>clouds_all</th>\n",
              "      <th>weather_main</th>\n",
              "      <th>weather_description</th>\n",
              "      <th>date_time</th>\n",
              "    </tr>\n",
              "  </thead>\n",
              "  <tbody>\n",
              "    <tr>\n",
              "      <th>0</th>\n",
              "      <td>NaN</td>\n",
              "      <td>288.28</td>\n",
              "      <td>0.0</td>\n",
              "      <td>0.0</td>\n",
              "      <td>40</td>\n",
              "      <td>Clouds</td>\n",
              "      <td>scattered clouds</td>\n",
              "      <td>2012-10-02 09:00:00</td>\n",
              "    </tr>\n",
              "    <tr>\n",
              "      <th>1</th>\n",
              "      <td>NaN</td>\n",
              "      <td>289.36</td>\n",
              "      <td>0.0</td>\n",
              "      <td>0.0</td>\n",
              "      <td>75</td>\n",
              "      <td>Clouds</td>\n",
              "      <td>broken clouds</td>\n",
              "      <td>2012-10-02 10:00:00</td>\n",
              "    </tr>\n",
              "    <tr>\n",
              "      <th>2</th>\n",
              "      <td>NaN</td>\n",
              "      <td>289.58</td>\n",
              "      <td>0.0</td>\n",
              "      <td>0.0</td>\n",
              "      <td>90</td>\n",
              "      <td>Clouds</td>\n",
              "      <td>overcast clouds</td>\n",
              "      <td>2012-10-02 11:00:00</td>\n",
              "    </tr>\n",
              "    <tr>\n",
              "      <th>3</th>\n",
              "      <td>NaN</td>\n",
              "      <td>290.13</td>\n",
              "      <td>0.0</td>\n",
              "      <td>0.0</td>\n",
              "      <td>90</td>\n",
              "      <td>Clouds</td>\n",
              "      <td>overcast clouds</td>\n",
              "      <td>2012-10-02 12:00:00</td>\n",
              "    </tr>\n",
              "    <tr>\n",
              "      <th>4</th>\n",
              "      <td>NaN</td>\n",
              "      <td>291.14</td>\n",
              "      <td>0.0</td>\n",
              "      <td>0.0</td>\n",
              "      <td>75</td>\n",
              "      <td>Clouds</td>\n",
              "      <td>broken clouds</td>\n",
              "      <td>2012-10-02 13:00:00</td>\n",
              "    </tr>\n",
              "  </tbody>\n",
              "</table>\n",
              "</div>"
            ],
            "text/plain": [
              "  holiday    temp  rain_1h  snow_1h  clouds_all weather_main  \\\n",
              "0     NaN  288.28      0.0      0.0          40       Clouds   \n",
              "1     NaN  289.36      0.0      0.0          75       Clouds   \n",
              "2     NaN  289.58      0.0      0.0          90       Clouds   \n",
              "3     NaN  290.13      0.0      0.0          90       Clouds   \n",
              "4     NaN  291.14      0.0      0.0          75       Clouds   \n",
              "\n",
              "  weather_description            date_time  \n",
              "0    scattered clouds  2012-10-02 09:00:00  \n",
              "1       broken clouds  2012-10-02 10:00:00  \n",
              "2     overcast clouds  2012-10-02 11:00:00  \n",
              "3     overcast clouds  2012-10-02 12:00:00  \n",
              "4       broken clouds  2012-10-02 13:00:00  "
            ]
          },
          "execution_count": 37,
          "metadata": {},
          "output_type": "execute_result"
        }
      ],
      "source": [
        "metro_interstate_traffic_volume.data.features.head()"
      ]
    },
    {
      "cell_type": "code",
      "execution_count": null,
      "id": "385177a8-c5f4-45e9-8bba-f4061845d4a7",
      "metadata": {
        "id": "385177a8-c5f4-45e9-8bba-f4061845d4a7",
        "outputId": "77e70893-de8c-44e5-c48a-b741e7c80494"
      },
      "outputs": [
        {
          "data": {
            "text/html": [
              "<div>\n",
              "<style scoped>\n",
              "    .dataframe tbody tr th:only-of-type {\n",
              "        vertical-align: middle;\n",
              "    }\n",
              "\n",
              "    .dataframe tbody tr th {\n",
              "        vertical-align: top;\n",
              "    }\n",
              "\n",
              "    .dataframe thead th {\n",
              "        text-align: right;\n",
              "    }\n",
              "</style>\n",
              "<table border=\"1\" class=\"dataframe\">\n",
              "  <thead>\n",
              "    <tr style=\"text-align: right;\">\n",
              "      <th></th>\n",
              "      <th>holiday</th>\n",
              "      <th>temp</th>\n",
              "      <th>rain_1h</th>\n",
              "      <th>snow_1h</th>\n",
              "      <th>clouds_all</th>\n",
              "      <th>weather_main</th>\n",
              "      <th>weather_description</th>\n",
              "      <th>date_time</th>\n",
              "    </tr>\n",
              "  </thead>\n",
              "  <tbody>\n",
              "    <tr>\n",
              "      <th>48203</th>\n",
              "      <td>NaN</td>\n",
              "      <td>282.12</td>\n",
              "      <td>0.0</td>\n",
              "      <td>0.0</td>\n",
              "      <td>90</td>\n",
              "      <td>Clouds</td>\n",
              "      <td>overcast clouds</td>\n",
              "      <td>2018-09-30 23:00:00</td>\n",
              "    </tr>\n",
              "  </tbody>\n",
              "</table>\n",
              "</div>"
            ],
            "text/plain": [
              "      holiday    temp  rain_1h  snow_1h  clouds_all weather_main  \\\n",
              "48203     NaN  282.12      0.0      0.0          90       Clouds   \n",
              "\n",
              "      weather_description            date_time  \n",
              "48203     overcast clouds  2018-09-30 23:00:00  "
            ]
          },
          "execution_count": 40,
          "metadata": {},
          "output_type": "execute_result"
        }
      ],
      "source": [
        "metro_interstate_traffic_volume.data.features.tail(1)"
      ]
    },
    {
      "cell_type": "code",
      "execution_count": null,
      "id": "4bedeb17-8104-40ac-bca2-8c86752ca773",
      "metadata": {
        "id": "4bedeb17-8104-40ac-bca2-8c86752ca773",
        "outputId": "561ab528-081a-43c3-f6d3-98e07274c7b1"
      },
      "outputs": [
        {
          "data": {
            "text/plain": [
              "holiday                   61\n",
              "temp                   48204\n",
              "rain_1h                48204\n",
              "snow_1h                48204\n",
              "clouds_all             48204\n",
              "weather_main           48204\n",
              "weather_description    48204\n",
              "date_time              48204\n",
              "dtype: int64"
            ]
          },
          "execution_count": 38,
          "metadata": {},
          "output_type": "execute_result"
        }
      ],
      "source": [
        "metro_interstate_traffic_volume.data.features.count()"
      ]
    },
    {
      "cell_type": "code",
      "execution_count": null,
      "id": "c22e049e-eb52-4063-8029-523926725d71",
      "metadata": {
        "id": "c22e049e-eb52-4063-8029-523926725d71",
        "outputId": "26ee4e22-07d9-41ea-d5b1-e63bb8e64b7e"
      },
      "outputs": [
        {
          "data": {
            "text/plain": [
              "(48204, 8)"
            ]
          },
          "execution_count": 41,
          "metadata": {},
          "output_type": "execute_result"
        }
      ],
      "source": [
        "metro_interstate_traffic_volume.data.features.shape"
      ]
    },
    {
      "cell_type": "code",
      "execution_count": null,
      "id": "aef3b3a1-6a3a-43a4-9464-a80b9f369beb",
      "metadata": {
        "id": "aef3b3a1-6a3a-43a4-9464-a80b9f369beb",
        "outputId": "b3362347-43a2-419b-f265-7813170d2160"
      },
      "outputs": [
        {
          "data": {
            "text/html": [
              "<div>\n",
              "<style scoped>\n",
              "    .dataframe tbody tr th:only-of-type {\n",
              "        vertical-align: middle;\n",
              "    }\n",
              "\n",
              "    .dataframe tbody tr th {\n",
              "        vertical-align: top;\n",
              "    }\n",
              "\n",
              "    .dataframe thead th {\n",
              "        text-align: right;\n",
              "    }\n",
              "</style>\n",
              "<table border=\"1\" class=\"dataframe\">\n",
              "  <thead>\n",
              "    <tr style=\"text-align: right;\">\n",
              "      <th></th>\n",
              "      <th>traffic_volume</th>\n",
              "    </tr>\n",
              "  </thead>\n",
              "  <tbody>\n",
              "    <tr>\n",
              "      <th>0</th>\n",
              "      <td>5545</td>\n",
              "    </tr>\n",
              "    <tr>\n",
              "      <th>1</th>\n",
              "      <td>4516</td>\n",
              "    </tr>\n",
              "    <tr>\n",
              "      <th>2</th>\n",
              "      <td>4767</td>\n",
              "    </tr>\n",
              "    <tr>\n",
              "      <th>3</th>\n",
              "      <td>5026</td>\n",
              "    </tr>\n",
              "    <tr>\n",
              "      <th>4</th>\n",
              "      <td>4918</td>\n",
              "    </tr>\n",
              "    <tr>\n",
              "      <th>...</th>\n",
              "      <td>...</td>\n",
              "    </tr>\n",
              "    <tr>\n",
              "      <th>48199</th>\n",
              "      <td>3543</td>\n",
              "    </tr>\n",
              "    <tr>\n",
              "      <th>48200</th>\n",
              "      <td>2781</td>\n",
              "    </tr>\n",
              "    <tr>\n",
              "      <th>48201</th>\n",
              "      <td>2159</td>\n",
              "    </tr>\n",
              "    <tr>\n",
              "      <th>48202</th>\n",
              "      <td>1450</td>\n",
              "    </tr>\n",
              "    <tr>\n",
              "      <th>48203</th>\n",
              "      <td>954</td>\n",
              "    </tr>\n",
              "  </tbody>\n",
              "</table>\n",
              "<p>48204 rows × 1 columns</p>\n",
              "</div>"
            ],
            "text/plain": [
              "       traffic_volume\n",
              "0                5545\n",
              "1                4516\n",
              "2                4767\n",
              "3                5026\n",
              "4                4918\n",
              "...               ...\n",
              "48199            3543\n",
              "48200            2781\n",
              "48201            2159\n",
              "48202            1450\n",
              "48203             954\n",
              "\n",
              "[48204 rows x 1 columns]"
            ]
          },
          "execution_count": 54,
          "metadata": {},
          "output_type": "execute_result"
        }
      ],
      "source": [
        "metro_interstate_traffic_volume.data.targets"
      ]
    },
    {
      "cell_type": "markdown",
      "id": "e5f05392-92b3-4493-84a4-b4a840680644",
      "metadata": {
        "id": "e5f05392-92b3-4493-84a4-b4a840680644"
      },
      "source": [
        "### Traffic volume"
      ]
    },
    {
      "cell_type": "code",
      "execution_count": null,
      "id": "f516f47a-4aaa-4d52-aacc-9ceae578d13e",
      "metadata": {
        "id": "f516f47a-4aaa-4d52-aacc-9ceae578d13e",
        "outputId": "62837943-9f9f-4e15-e425-1a160d2429a5"
      },
      "outputs": [
        {
          "data": {
            "image/png": "[encoded data removed]",
            "text/plain": [
              "<Figure size 640x480 with 1 Axes>"
            ]
          },
          "metadata": {},
          "output_type": "display_data"
        }
      ],
      "source": [
        "fig, ax = plt.subplots()\n",
        "\n",
        "ax.plot(y['traffic_volume'])\n",
        "ax.set_xlabel('Time')\n",
        "ax.set_ylabel('Traffic volume')\n",
        "\n",
        "plt.xticks(np.arange(start=7, stop=400, step=24), ['Friday', 'Saturday', 'Sunday', 'Monday', 'Tuesday', 'Wednesday', 'Thursday', 'Friday', 'Saturday', 'Sunday', 'Monday', 'Tuesday', 'Wednesday', 'Thursday', 'Friday', 'Saturday', 'Sunday'])\n",
        "plt.xlim(0, 400)\n",
        "\n",
        "fig.autofmt_xdate()\n",
        "plt.tight_layout()"
      ]
    },
    {
      "cell_type": "markdown",
      "id": "7b273e67-b075-4ece-b024-8965248317c1",
      "metadata": {
        "id": "7b273e67-b075-4ece-b024-8965248317c1"
      },
      "source": [
        "### Temperature yearly seasonality"
      ]
    },
    {
      "cell_type": "code",
      "execution_count": null,
      "id": "314a0bf4-d450-49ff-87bb-602b8833daf2",
      "metadata": {
        "id": "314a0bf4-d450-49ff-87bb-602b8833daf2",
        "outputId": "a3bda75e-a52f-4e1d-d2ea-9d144cbd2a5d"
      },
      "outputs": [
        {
          "data": {
            "image/png": "[encoded data removed]",
            "text/plain": [
              "<Figure size 640x480 with 1 Axes>"
            ]
          },
          "metadata": {},
          "output_type": "display_data"
        }
      ],
      "source": [
        "fig, ax = plt.subplots()\n",
        "\n",
        "ax.plot(X['temp'])\n",
        "ax.set_xlabel('Time')\n",
        "ax.set_ylabel('Temperature (K)')\n",
        "\n",
        "plt.xticks([2239, 10999], [2017, 2018])\n",
        "\n",
        "fig.autofmt_xdate()\n",
        "plt.tight_layout()"
      ]
    },
    {
      "cell_type": "markdown",
      "id": "0e679816-b131-42cf-a06d-4859aa80e055",
      "metadata": {
        "id": "0e679816-b131-42cf-a06d-4859aa80e055"
      },
      "source": [
        "### Temperature daily seasonality"
      ]
    },
    {
      "cell_type": "code",
      "execution_count": null,
      "id": "8bb535b3-b4f3-4e3e-b582-00069814d9d0",
      "metadata": {
        "id": "8bb535b3-b4f3-4e3e-b582-00069814d9d0",
        "outputId": "a69aa93e-7255-4374-b5d6-ccd8ce0dc150"
      },
      "outputs": [
        {
          "data": {
            "image/png": "[encoded data removed]",
            "text/plain": [
              "<Figure size 640x480 with 1 Axes>"
            ]
          },
          "metadata": {},
          "output_type": "display_data"
        }
      ],
      "source": [
        "fig, ax = plt.subplots()\n",
        "\n",
        "ax.plot(X['temp'])\n",
        "ax.set_xlabel('Time')\n",
        "ax.set_ylabel('Temperature (K)')\n",
        "\n",
        "plt.xticks(np.arange(start=7, stop=400, step=24), ['Friday', 'Saturday', 'Sunday', 'Monday', 'Tuesday', 'Wednesday', 'Thursday', 'Friday', 'Saturday', 'Sunday', 'Monday', 'Tuesday', 'Wednesday', 'Thursday', 'Friday', 'Saturday', 'Sunday'])\n",
        "plt.xlim(0, 400)\n",
        "\n",
        "fig.autofmt_xdate()\n",
        "plt.tight_layout()"
      ]
    },
    {
      "cell_type": "code",
      "execution_count": null,
      "id": "e26456f7-dccb-4978-a00f-053a8382ebfc",
      "metadata": {
        "id": "e26456f7-dccb-4978-a00f-053a8382ebfc",
        "outputId": "5e07a023-05d7-46c0-eee5-d72d69f34a49"
      },
      "outputs": [
        {
          "data": {
            "text/html": [
              "<div>\n",
              "<style scoped>\n",
              "    .dataframe tbody tr th:only-of-type {\n",
              "        vertical-align: middle;\n",
              "    }\n",
              "\n",
              "    .dataframe tbody tr th {\n",
              "        vertical-align: top;\n",
              "    }\n",
              "\n",
              "    .dataframe thead th {\n",
              "        text-align: right;\n",
              "    }\n",
              "</style>\n",
              "<table border=\"1\" class=\"dataframe\">\n",
              "  <thead>\n",
              "    <tr style=\"text-align: right;\">\n",
              "      <th></th>\n",
              "      <th>count</th>\n",
              "      <th>mean</th>\n",
              "      <th>std</th>\n",
              "      <th>min</th>\n",
              "      <th>25%</th>\n",
              "      <th>50%</th>\n",
              "      <th>75%</th>\n",
              "      <th>max</th>\n",
              "    </tr>\n",
              "  </thead>\n",
              "  <tbody>\n",
              "    <tr>\n",
              "      <th>temp</th>\n",
              "      <td>48204.0</td>\n",
              "      <td>281.205870</td>\n",
              "      <td>13.338232</td>\n",
              "      <td>0.0</td>\n",
              "      <td>272.16</td>\n",
              "      <td>282.45</td>\n",
              "      <td>291.806</td>\n",
              "      <td>310.07</td>\n",
              "    </tr>\n",
              "    <tr>\n",
              "      <th>rain_1h</th>\n",
              "      <td>48204.0</td>\n",
              "      <td>0.334264</td>\n",
              "      <td>44.789133</td>\n",
              "      <td>0.0</td>\n",
              "      <td>0.00</td>\n",
              "      <td>0.00</td>\n",
              "      <td>0.000</td>\n",
              "      <td>9831.30</td>\n",
              "    </tr>\n",
              "    <tr>\n",
              "      <th>snow_1h</th>\n",
              "      <td>48204.0</td>\n",
              "      <td>0.000222</td>\n",
              "      <td>0.008168</td>\n",
              "      <td>0.0</td>\n",
              "      <td>0.00</td>\n",
              "      <td>0.00</td>\n",
              "      <td>0.000</td>\n",
              "      <td>0.51</td>\n",
              "    </tr>\n",
              "    <tr>\n",
              "      <th>clouds_all</th>\n",
              "      <td>48204.0</td>\n",
              "      <td>49.362231</td>\n",
              "      <td>39.015750</td>\n",
              "      <td>0.0</td>\n",
              "      <td>1.00</td>\n",
              "      <td>64.00</td>\n",
              "      <td>90.000</td>\n",
              "      <td>100.00</td>\n",
              "    </tr>\n",
              "  </tbody>\n",
              "</table>\n",
              "</div>"
            ],
            "text/plain": [
              "              count        mean        std  min     25%     50%      75%  \\\n",
              "temp        48204.0  281.205870  13.338232  0.0  272.16  282.45  291.806   \n",
              "rain_1h     48204.0    0.334264  44.789133  0.0    0.00    0.00    0.000   \n",
              "snow_1h     48204.0    0.000222   0.008168  0.0    0.00    0.00    0.000   \n",
              "clouds_all  48204.0   49.362231  39.015750  0.0    1.00   64.00   90.000   \n",
              "\n",
              "                max  \n",
              "temp         310.07  \n",
              "rain_1h     9831.30  \n",
              "snow_1h        0.51  \n",
              "clouds_all   100.00  "
            ]
          },
          "execution_count": 70,
          "metadata": {},
          "output_type": "execute_result"
        }
      ],
      "source": [
        "X.describe().transpose()"
      ]
    },
    {
      "cell_type": "code",
      "execution_count": null,
      "id": "3b97066d-c38f-4018-bd74-1588288e183f",
      "metadata": {
        "id": "3b97066d-c38f-4018-bd74-1588288e183f",
        "outputId": "feaa6808-fdfc-4409-8070-9a7ec7630531"
      },
      "outputs": [
        {
          "data": {
            "text/plain": [
              "(48204, 8)"
            ]
          },
          "execution_count": 104,
          "metadata": {},
          "output_type": "execute_result"
        }
      ],
      "source": [
        "cols_to_drop = ['rain_1h', 'snow_1h']\n",
        "X_drop = X.drop(cols_to_drop, axis=1)\n",
        "X_drop.shape"
      ]
    },
    {
      "cell_type": "code",
      "execution_count": null,
      "id": "1d03ea77-3efc-46ff-bdc2-29b9a94351f2",
      "metadata": {
        "id": "1d03ea77-3efc-46ff-bdc2-29b9a94351f2"
      },
      "outputs": [],
      "source": [
        "timestamp_s = pd.to_datetime(X['date_time']).map(datetime.datetime.timestamp)"
      ]
    },
    {
      "cell_type": "code",
      "execution_count": null,
      "id": "00f5c29b-2b43-41fd-98b7-a4adfbce8222",
      "metadata": {
        "id": "00f5c29b-2b43-41fd-98b7-a4adfbce8222",
        "outputId": "4036fc34-b479-456a-81d5-bdf546651b0a"
      },
      "outputs": [
        {
          "data": {
            "image/png": "[encoded data removed]",
            "text/plain": [
              "<Figure size 640x480 with 1 Axes>"
            ]
          },
          "metadata": {},
          "output_type": "display_data"
        }
      ],
      "source": [
        "fig, ax = plt.subplots()\n",
        "\n",
        "ax.plot(timestamp_s)\n",
        "ax.set_xlabel('Time')\n",
        "ax.set_ylabel('Number of seconds')\n",
        "\n",
        "plt.xticks([2239, 10999], [2017, 2018])\n",
        "\n",
        "fig.autofmt_xdate()\n",
        "plt.tight_layout()"
      ]
    },
    {
      "cell_type": "markdown",
      "id": "3183543b-60b5-4350-b597-df210d2c4e6c",
      "metadata": {
        "id": "3183543b-60b5-4350-b597-df210d2c4e6c"
      },
      "source": [
        "### Time cycles"
      ]
    },
    {
      "cell_type": "code",
      "execution_count": null,
      "id": "c515d981-3c2d-4406-acef-7729271a701f",
      "metadata": {
        "id": "c515d981-3c2d-4406-acef-7729271a701f"
      },
      "outputs": [],
      "source": [
        "day = 24 * 60 * 60"
      ]
    },
    {
      "cell_type": "code",
      "execution_count": null,
      "id": "26f39412-9b98-4049-8ca1-ef8fc7f403bb",
      "metadata": {
        "id": "26f39412-9b98-4049-8ca1-ef8fc7f403bb"
      },
      "outputs": [],
      "source": [
        "X_drop['day_sin'] = (np.sin(timestamp_s * (2*np.pi/day))).values\n",
        "X_drop['day_cos'] = (np.cos(timestamp_s * (2*np.pi/day))).values"
      ]
    },
    {
      "cell_type": "code",
      "execution_count": null,
      "id": "f5154c36-c0be-4f46-871b-77d2b38c0154",
      "metadata": {
        "id": "f5154c36-c0be-4f46-871b-77d2b38c0154",
        "outputId": "21307364-e427-4f2e-9f23-2dcfce53f69e"
      },
      "outputs": [
        {
          "data": {
            "text/html": [
              "<div>\n",
              "<style scoped>\n",
              "    .dataframe tbody tr th:only-of-type {\n",
              "        vertical-align: middle;\n",
              "    }\n",
              "\n",
              "    .dataframe tbody tr th {\n",
              "        vertical-align: top;\n",
              "    }\n",
              "\n",
              "    .dataframe thead th {\n",
              "        text-align: right;\n",
              "    }\n",
              "</style>\n",
              "<table border=\"1\" class=\"dataframe\">\n",
              "  <thead>\n",
              "    <tr style=\"text-align: right;\">\n",
              "      <th></th>\n",
              "      <th>holiday</th>\n",
              "      <th>temp</th>\n",
              "      <th>clouds_all</th>\n",
              "      <th>weather_main</th>\n",
              "      <th>weather_description</th>\n",
              "      <th>day_sin</th>\n",
              "      <th>day_cos</th>\n",
              "    </tr>\n",
              "  </thead>\n",
              "  <tbody>\n",
              "    <tr>\n",
              "      <th>0</th>\n",
              "      <td>NaN</td>\n",
              "      <td>288.28</td>\n",
              "      <td>40</td>\n",
              "      <td>Clouds</td>\n",
              "      <td>scattered clouds</td>\n",
              "      <td>0.965926</td>\n",
              "      <td>-0.258819</td>\n",
              "    </tr>\n",
              "    <tr>\n",
              "      <th>1</th>\n",
              "      <td>NaN</td>\n",
              "      <td>289.36</td>\n",
              "      <td>75</td>\n",
              "      <td>Clouds</td>\n",
              "      <td>broken clouds</td>\n",
              "      <td>0.866025</td>\n",
              "      <td>-0.500000</td>\n",
              "    </tr>\n",
              "    <tr>\n",
              "      <th>2</th>\n",
              "      <td>NaN</td>\n",
              "      <td>289.58</td>\n",
              "      <td>90</td>\n",
              "      <td>Clouds</td>\n",
              "      <td>overcast clouds</td>\n",
              "      <td>0.707107</td>\n",
              "      <td>-0.707107</td>\n",
              "    </tr>\n",
              "    <tr>\n",
              "      <th>3</th>\n",
              "      <td>NaN</td>\n",
              "      <td>290.13</td>\n",
              "      <td>90</td>\n",
              "      <td>Clouds</td>\n",
              "      <td>overcast clouds</td>\n",
              "      <td>0.500000</td>\n",
              "      <td>-0.866025</td>\n",
              "    </tr>\n",
              "    <tr>\n",
              "      <th>4</th>\n",
              "      <td>NaN</td>\n",
              "      <td>291.14</td>\n",
              "      <td>75</td>\n",
              "      <td>Clouds</td>\n",
              "      <td>broken clouds</td>\n",
              "      <td>0.258819</td>\n",
              "      <td>-0.965926</td>\n",
              "    </tr>\n",
              "  </tbody>\n",
              "</table>\n",
              "</div>"
            ],
            "text/plain": [
              "  holiday    temp  clouds_all weather_main weather_description   day_sin  \\\n",
              "0     NaN  288.28          40       Clouds    scattered clouds  0.965926   \n",
              "1     NaN  289.36          75       Clouds       broken clouds  0.866025   \n",
              "2     NaN  289.58          90       Clouds     overcast clouds  0.707107   \n",
              "3     NaN  290.13          90       Clouds     overcast clouds  0.500000   \n",
              "4     NaN  291.14          75       Clouds       broken clouds  0.258819   \n",
              "\n",
              "    day_cos  \n",
              "0 -0.258819  \n",
              "1 -0.500000  \n",
              "2 -0.707107  \n",
              "3 -0.866025  \n",
              "4 -0.965926  "
            ]
          },
          "execution_count": 109,
          "metadata": {},
          "output_type": "execute_result"
        }
      ],
      "source": [
        "X_drop = X_drop.drop(['date_time'], axis=1)\n",
        "X_drop.head()"
      ]
    },
    {
      "cell_type": "code",
      "execution_count": null,
      "id": "82fc1468-4ce8-4155-81ac-52fe750c2902",
      "metadata": {
        "id": "82fc1468-4ce8-4155-81ac-52fe750c2902",
        "outputId": "5791a948-5a72-4c13-9fef-ec6791049527"
      },
      "outputs": [
        {
          "data": {
            "image/png": "[encoded data removed]",
            "text/plain": [
              "<Figure size 640x480 with 1 Axes>"
            ]
          },
          "metadata": {},
          "output_type": "display_data"
        }
      ],
      "source": [
        "X_drop.sample(50).plot.scatter('day_sin','day_cos').set_aspect('equal');\n",
        "plt.tight_layout()"
      ]
    },
    {
      "cell_type": "markdown",
      "id": "987ed3bd-f201-4919-a1c9-e75e74d17e99",
      "metadata": {
        "id": "987ed3bd-f201-4919-a1c9-e75e74d17e99"
      },
      "source": [
        "### Training, validation, and test sets\n",
        "We split the data into 70-20-10 for training, validation, and test respectively"
      ]
    },
    {
      "cell_type": "code",
      "execution_count": null,
      "id": "9a72a410-95cd-449b-b795-e1c9062d07c9",
      "metadata": {
        "id": "9a72a410-95cd-449b-b795-e1c9062d07c9"
      },
      "outputs": [],
      "source": [
        "X_drop = X_drop.drop(['weather_description', 'weather_main', 'holiday'], axis=1)"
      ]
    },
    {
      "cell_type": "code",
      "execution_count": null,
      "id": "34d9282d-6be5-40b7-a0ca-ddb8363e51cf",
      "metadata": {
        "id": "34d9282d-6be5-40b7-a0ca-ddb8363e51cf",
        "outputId": "995a1c92-9eec-4d5d-a2e6-dcfabe48c8c0"
      },
      "outputs": [
        {
          "data": {
            "text/plain": [
              "((33742, 4), (9641, 4), (4821, 4))"
            ]
          },
          "execution_count": 112,
          "metadata": {},
          "output_type": "execute_result"
        }
      ],
      "source": [
        "n = len(X_drop)\n",
        "train_df = X_drop[0:int(n * 0.7)]\n",
        "val_df = X_drop[int(n * 0.7):int(n * 0.9)]\n",
        "test_df = X_drop[int(n * 0.9):]\n",
        "train_df.shape, val_df.shape, test_df.shape"
      ]
    },
    {
      "cell_type": "markdown",
      "id": "401e4fed-401b-422b-b11d-3398ab27b810",
      "metadata": {
        "id": "401e4fed-401b-422b-b11d-3398ab27b810"
      },
      "source": [
        "We use the [MinMaxScaler](https://scikit-learn.org/stable/modules/generated/sklearn.preprocessing.MinMaxScaler.html) from scikit-learn to scale the values"
      ]
    },
    {
      "cell_type": "code",
      "execution_count": null,
      "id": "fd5f7256-b332-493f-9b85-db3a4695313e",
      "metadata": {
        "id": "fd5f7256-b332-493f-9b85-db3a4695313e",
        "outputId": "60106fe5-ad91-42a2-a821-73768f8e523a"
      },
      "outputs": [
        {
          "name": "stderr",
          "output_type": "stream",
          "text": [
            "C:\\Users\\Luigi\\AppData\\Local\\Temp\\ipykernel_20376\\2663594738.py:6: SettingWithCopyWarning: \n",
            "A value is trying to be set on a copy of a slice from a DataFrame.\n",
            "Try using .loc[row_indexer,col_indexer] = value instead\n",
            "\n",
            "See the caveats in the documentation: https://pandas.pydata.org/pandas-docs/stable/user_guide/indexing.html#returning-a-view-versus-a-copy\n",
            "  train_df[train_df.columns] = scaler.transform(train_df[train_df.columns])\n",
            "C:\\Users\\Luigi\\AppData\\Local\\Temp\\ipykernel_20376\\2663594738.py:7: SettingWithCopyWarning: \n",
            "A value is trying to be set on a copy of a slice from a DataFrame.\n",
            "Try using .loc[row_indexer,col_indexer] = value instead\n",
            "\n",
            "See the caveats in the documentation: https://pandas.pydata.org/pandas-docs/stable/user_guide/indexing.html#returning-a-view-versus-a-copy\n",
            "  val_df[val_df.columns] = scaler.transform(val_df[val_df.columns])\n",
            "C:\\Users\\Luigi\\AppData\\Local\\Temp\\ipykernel_20376\\2663594738.py:8: SettingWithCopyWarning: \n",
            "A value is trying to be set on a copy of a slice from a DataFrame.\n",
            "Try using .loc[row_indexer,col_indexer] = value instead\n",
            "\n",
            "See the caveats in the documentation: https://pandas.pydata.org/pandas-docs/stable/user_guide/indexing.html#returning-a-view-versus-a-copy\n",
            "  test_df[test_df.columns] = scaler.transform(test_df[test_df.columns])\n"
          ]
        }
      ],
      "source": [
        "from sklearn.preprocessing import MinMaxScaler\n",
        "\n",
        "scaler = MinMaxScaler()\n",
        "scaler.fit(train_df)\n",
        "\n",
        "train_df[train_df.columns] = scaler.transform(train_df[train_df.columns])\n",
        "val_df[val_df.columns] = scaler.transform(val_df[val_df.columns])\n",
        "test_df[test_df.columns] = scaler.transform(test_df[test_df.columns])"
      ]
    },
    {
      "cell_type": "code",
      "execution_count": null,
      "id": "ca5affa7-2798-41da-8758-2e5c78f35c88",
      "metadata": {
        "id": "ca5affa7-2798-41da-8758-2e5c78f35c88",
        "outputId": "1da9f37e-2c5a-4a2c-fef1-9f1a6f8d8e78"
      },
      "outputs": [
        {
          "data": {
            "text/html": [
              "<div>\n",
              "<style scoped>\n",
              "    .dataframe tbody tr th:only-of-type {\n",
              "        vertical-align: middle;\n",
              "    }\n",
              "\n",
              "    .dataframe tbody tr th {\n",
              "        vertical-align: top;\n",
              "    }\n",
              "\n",
              "    .dataframe thead th {\n",
              "        text-align: right;\n",
              "    }\n",
              "</style>\n",
              "<table border=\"1\" class=\"dataframe\">\n",
              "  <thead>\n",
              "    <tr style=\"text-align: right;\">\n",
              "      <th></th>\n",
              "      <th>count</th>\n",
              "      <th>mean</th>\n",
              "      <th>std</th>\n",
              "      <th>min</th>\n",
              "      <th>25%</th>\n",
              "      <th>50%</th>\n",
              "      <th>75%</th>\n",
              "      <th>max</th>\n",
              "    </tr>\n",
              "  </thead>\n",
              "  <tbody>\n",
              "    <tr>\n",
              "      <th>temp</th>\n",
              "      <td>33742.0</td>\n",
              "      <td>0.908603</td>\n",
              "      <td>0.043526</td>\n",
              "      <td>0.0</td>\n",
              "      <td>0.881521</td>\n",
              "      <td>0.90887</td>\n",
              "      <td>0.942837</td>\n",
              "      <td>1.0</td>\n",
              "    </tr>\n",
              "    <tr>\n",
              "      <th>clouds_all</th>\n",
              "      <td>33742.0</td>\n",
              "      <td>0.504494</td>\n",
              "      <td>0.388716</td>\n",
              "      <td>0.0</td>\n",
              "      <td>0.010000</td>\n",
              "      <td>0.64000</td>\n",
              "      <td>0.900000</td>\n",
              "      <td>1.0</td>\n",
              "    </tr>\n",
              "    <tr>\n",
              "      <th>day_sin</th>\n",
              "      <td>33742.0</td>\n",
              "      <td>0.504654</td>\n",
              "      <td>0.353897</td>\n",
              "      <td>0.0</td>\n",
              "      <td>0.146447</td>\n",
              "      <td>0.50000</td>\n",
              "      <td>0.853553</td>\n",
              "      <td>1.0</td>\n",
              "    </tr>\n",
              "    <tr>\n",
              "      <th>day_cos</th>\n",
              "      <td>33742.0</td>\n",
              "      <td>0.506369</td>\n",
              "      <td>0.353132</td>\n",
              "      <td>0.0</td>\n",
              "      <td>0.146447</td>\n",
              "      <td>0.50000</td>\n",
              "      <td>0.853553</td>\n",
              "      <td>1.0</td>\n",
              "    </tr>\n",
              "  </tbody>\n",
              "</table>\n",
              "</div>"
            ],
            "text/plain": [
              "              count      mean       std  min       25%      50%       75%  max\n",
              "temp        33742.0  0.908603  0.043526  0.0  0.881521  0.90887  0.942837  1.0\n",
              "clouds_all  33742.0  0.504494  0.388716  0.0  0.010000  0.64000  0.900000  1.0\n",
              "day_sin     33742.0  0.504654  0.353897  0.0  0.146447  0.50000  0.853553  1.0\n",
              "day_cos     33742.0  0.506369  0.353132  0.0  0.146447  0.50000  0.853553  1.0"
            ]
          },
          "execution_count": 116,
          "metadata": {},
          "output_type": "execute_result"
        }
      ],
      "source": [
        "train_df.describe().transpose()"
      ]
    },
    {
      "cell_type": "code",
      "execution_count": null,
      "id": "ecf5fd91-6da7-4869-8369-f64bab209492",
      "metadata": {
        "id": "ecf5fd91-6da7-4869-8369-f64bab209492"
      },
      "outputs": [],
      "source": [
        "train_df.to_csv('data/metro_interstate_traffic/train.csv')\n",
        "val_df.to_csv('data/metro_interstate_traffic/val.csv')\n",
        "test_df.to_csv('data/metro_interstate_traffic/test.csv')"
      ]
    },
    {
      "cell_type": "code",
      "execution_count": null,
      "id": "3dffa9cd-8903-40f6-8805-163720134df1",
      "metadata": {
        "id": "3dffa9cd-8903-40f6-8805-163720134df1"
      },
      "outputs": [],
      "source": []
    }
  ],
  "metadata": {
    "kernelspec": {
      "display_name": "Python 3 (ipykernel)",
      "language": "python",
      "name": "python3"
    },
    "language_info": {
      "codemirror_mode": {
        "name": "ipython",
        "version": 3
      },
      "file_extension": ".py",
      "mimetype": "text/x-python",
      "name": "python",
      "nbconvert_exporter": "python",
      "pygments_lexer": "ipython3",
      "version": "3.12.5"
    },
    "colab": {
      "provenance": [],
      "include_colab_link": true
    }
  },
  "nbformat": 4,
  "nbformat_minor": 5
}
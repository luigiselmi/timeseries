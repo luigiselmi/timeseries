{
  "cells": [
    {
      "cell_type": "markdown",
      "metadata": {
        "id": "view-in-github",
        "colab_type": "text"
      },
      "source": [
        "<a href=\"https://colab.research.google.com/github/luigiselmi/timeseries/blob/main/cnn_timeseries.ipynb\" target=\"_parent\"><img src=\"https://colab.research.google.com/assets/colab-badge.svg\" alt=\"Open In Colab\"/></a>"
      ]
    },
    {
      "cell_type": "markdown",
      "id": "79a89f80-a8b1-45e1-b3e1-537e0439baa5",
      "metadata": {
        "id": "79a89f80-a8b1-45e1-b3e1-537e0439baa5"
      },
      "source": [
        "# 1D CNN for Time Series\n",
        "In this notebook we use a 1D CNN to smooth a time series, that is to predict the target variable from the inputs extracted from a sequence by sliding the kernel function over it. We can use the output of the CNN as input to a LSTM."
      ]
    },
    {
      "cell_type": "code",
      "execution_count": 1,
      "id": "82a32b56-293b-4ec2-ad6e-a193d287d25d",
      "metadata": {
        "colab": {
          "base_uri": "https://localhost:8080/"
        },
        "id": "82a32b56-293b-4ec2-ad6e-a193d287d25d",
        "outputId": "9be54738-4bf3-4b43-84ef-bf1e7aef78b8"
      },
      "outputs": [
        {
          "output_type": "stream",
          "name": "stdout",
          "text": [
            "NumPy version: 1.26.4\n",
            "Pandas version: 2.2.2\n",
            "Matplotlib version: 3.10.0\n",
            "TensorFlow version: 2.18.0\n",
            "Keras version: 3.8.0\n"
          ]
        }
      ],
      "source": [
        "import numpy as np\n",
        "import pandas as pd\n",
        "import requests\n",
        "import matplotlib as mpl\n",
        "import matplotlib.pyplot as plt\n",
        "import datetime\n",
        "import tensorflow as tf\n",
        "import keras\n",
        "from keras import layers\n",
        "print('NumPy version: %s'%np.__version__)\n",
        "print('Pandas version: %s'%pd.__version__)\n",
        "print('Matplotlib version: %s'%mpl.__version__)\n",
        "print('TensorFlow version: %s'%tf.__version__)\n",
        "print('Keras version: %s'%keras.__version__)"
      ]
    },
    {
      "cell_type": "markdown",
      "source": [
        "## Dataset and data window\n",
        "We download the traffic datasets and define the data structure to build the batches of tensors for training, validation, and test."
      ],
      "metadata": {
        "id": "eqg58ts3liWg"
      },
      "id": "eqg58ts3liWg"
    },
    {
      "cell_type": "code",
      "execution_count": 2,
      "id": "ce377992-2836-4f44-8ae1-3159531327fc",
      "metadata": {
        "id": "ce377992-2836-4f44-8ae1-3159531327fc"
      },
      "outputs": [],
      "source": [
        "def download_data(url):\n",
        "  r = requests.get(url)\n",
        "  data_path = url.rsplit('/')[-1]\n",
        "  with open(data_path, 'wb') as f:\n",
        "    f.write(r.content)\n",
        "  return data_path"
      ]
    },
    {
      "cell_type": "code",
      "execution_count": 3,
      "id": "38bc2f37-c151-4704-a753-c51d13a7721d",
      "metadata": {
        "colab": {
          "base_uri": "https://localhost:8080/"
        },
        "id": "38bc2f37-c151-4704-a753-c51d13a7721d",
        "outputId": "fd9981ae-6faf-482f-c5e1-643deee7f7eb"
      },
      "outputs": [
        {
          "output_type": "stream",
          "name": "stdout",
          "text": [
            "(12285, 5) (3510, 5) (1756, 5)\n"
          ]
        }
      ],
      "source": [
        "train_url = 'https://raw.githubusercontent.com/luigiselmi/timeseries/main/data/metro_interstate_traffic/train.csv'\n",
        "val_url = 'https://raw.githubusercontent.com/luigiselmi/timeseries/main/data/metro_interstate_traffic/val.csv'\n",
        "test_url = 'https://raw.githubusercontent.com/luigiselmi/timeseries/main/data/metro_interstate_traffic/test.csv'\n",
        "train_data = download_data(train_url)\n",
        "val_data = download_data(val_url)\n",
        "test_data = download_data(test_url)\n",
        "train_df = pd.read_csv(train_data, index_col=0)\n",
        "val_df = pd.read_csv(val_data, index_col=0)\n",
        "test_df = pd.read_csv(test_data, index_col=0)\n",
        "\n",
        "print(train_df.shape, val_df.shape, test_df.shape)"
      ]
    },
    {
      "cell_type": "code",
      "source": [
        "train_df.columns"
      ],
      "metadata": {
        "colab": {
          "base_uri": "https://localhost:8080/"
        },
        "id": "stkEyJPQ0LSp",
        "outputId": "a8e7aca3-1883-43fc-ff1a-77a8f0063876"
      },
      "id": "stkEyJPQ0LSp",
      "execution_count": 13,
      "outputs": [
        {
          "output_type": "execute_result",
          "data": {
            "text/plain": [
              "Index(['temp', 'clouds_all', 'traffic_volume', 'day_sin', 'day_cos'], dtype='object')"
            ]
          },
          "metadata": {},
          "execution_count": 13
        }
      ]
    },
    {
      "cell_type": "code",
      "execution_count": 4,
      "id": "261d4518-bbfb-4411-9dd1-fb74964912e3",
      "metadata": {
        "id": "261d4518-bbfb-4411-9dd1-fb74964912e3"
      },
      "outputs": [],
      "source": [
        "class DataWindow():\n",
        "    def __init__(self, input_width, label_width, shift,\n",
        "                 train_df=train_df, val_df=val_df, test_df=test_df,\n",
        "                 label_columns=None):\n",
        "\n",
        "        self.train_df = train_df\n",
        "        self.val_df = val_df\n",
        "        self.test_df = test_df\n",
        "\n",
        "        self.label_columns = label_columns\n",
        "        if label_columns is not None:\n",
        "            self.label_columns_indices = {name: i for i, name in enumerate(label_columns)}\n",
        "        self.column_indices = {name: i for i, name in enumerate(train_df.columns)}\n",
        "\n",
        "        self.input_width = input_width\n",
        "        self.label_width = label_width\n",
        "        self.shift = shift\n",
        "\n",
        "        self.total_window_size = input_width + shift\n",
        "\n",
        "        self.input_slice = slice(0, input_width)\n",
        "        self.input_indices = np.arange(self.total_window_size)[self.input_slice]\n",
        "\n",
        "        self.label_start = self.total_window_size - self.label_width\n",
        "        self.labels_slice = slice(self.label_start, None)\n",
        "        self.label_indices = np.arange(self.total_window_size)[self.labels_slice]\n",
        "\n",
        "    def split_to_inputs_labels(self, features):\n",
        "        '''\n",
        "        This function separates inputs and labels from the features.\n",
        "        '''\n",
        "        inputs = features[:, self.input_slice, :]\n",
        "        labels = features[:, self.labels_slice, :]\n",
        "        if self.label_columns is not None:\n",
        "            labels = tf.stack(\n",
        "                [labels[:,:,self.column_indices[name]] for name in self.label_columns],\n",
        "                axis=-1\n",
        "            )\n",
        "        inputs.set_shape([None, self.input_width, None])\n",
        "        labels.set_shape([None, self.label_width, None])\n",
        "\n",
        "        return inputs, labels\n",
        "\n",
        "    def plot(self, model=None, plot_col='traffic_volume', max_subplots=3):\n",
        "        '''\n",
        "        The function plots the model's predictions for three data windows\n",
        "        '''\n",
        "        inputs, labels = self.sample_batch\n",
        "\n",
        "        plt.figure(figsize=(12, 8))\n",
        "        plot_col_index = self.column_indices[plot_col]\n",
        "        max_n = min(max_subplots, len(inputs))\n",
        "\n",
        "        for n in range(max_n):\n",
        "            plt.subplot(3, 1, n+1)\n",
        "            plt.ylabel(f'{plot_col} [scaled]')\n",
        "            plt.plot(self.input_indices, inputs[n, :, plot_col_index],\n",
        "                     label='Inputs', marker='.', zorder=-10)\n",
        "\n",
        "            if self.label_columns:\n",
        "              label_col_index = self.label_columns_indices.get(plot_col, None)\n",
        "            else:\n",
        "              label_col_index = plot_col_index\n",
        "\n",
        "            if label_col_index is None:\n",
        "              continue\n",
        "\n",
        "            plt.scatter(self.label_indices, labels[n, :, label_col_index],\n",
        "                        edgecolors='k', marker='s', label='Labels', c='green', s=64)\n",
        "            if model is not None:\n",
        "              predictions = model(inputs)\n",
        "              plt.scatter(self.label_indices, predictions[n, :, label_col_index],\n",
        "                          marker='X', edgecolors='k', label='Predictions',\n",
        "                          c='red', s=64)\n",
        "\n",
        "            if n == 0:\n",
        "              plt.legend()\n",
        "\n",
        "        plt.xlabel('Time (h)')\n",
        "\n",
        "    def make_dataset(self, data):\n",
        "        '''\n",
        "        This function is based on a Keras function to create batches of data by sliding windows of inputs and lables from the train, validation, and test sets.\n",
        "        The slide is set with the sequence_stride argument and it is set to 1. The data windows are shuffled but the order within each window is preserved.\n",
        "        '''\n",
        "        data = np.array(data, dtype=np.float32)\n",
        "        ds = tf.keras.preprocessing.timeseries_dataset_from_array(\n",
        "            data=data,\n",
        "            targets=None,\n",
        "            sequence_length=self.total_window_size,\n",
        "            sequence_stride=1,\n",
        "            shuffle=True,\n",
        "            batch_size=32\n",
        "        )\n",
        "\n",
        "        ds = ds.map(self.split_to_inputs_labels)\n",
        "        return ds\n",
        "\n",
        "    @property\n",
        "    def train(self):\n",
        "        return self.make_dataset(self.train_df)\n",
        "\n",
        "    @property\n",
        "    def val(self):\n",
        "        return self.make_dataset(self.val_df)\n",
        "\n",
        "    @property\n",
        "    def test(self):\n",
        "        return self.make_dataset(self.test_df)\n",
        "\n",
        "    @property\n",
        "    def sample_batch(self):\n",
        "        result = getattr(self, '_sample_batch', None)\n",
        "        if result is None:\n",
        "            result = next(iter(self.train))\n",
        "            self._sample_batch = result\n",
        "        return result"
      ]
    },
    {
      "cell_type": "markdown",
      "source": [
        "We use the mean square error as loss function, and the mean absolute error as the performance metric."
      ],
      "metadata": {
        "id": "Brjn-Yerl_WI"
      },
      "id": "Brjn-Yerl_WI"
    },
    {
      "cell_type": "code",
      "execution_count": 5,
      "id": "b8fce2df-2330-480d-8c2b-27772ce69794",
      "metadata": {
        "id": "b8fce2df-2330-480d-8c2b-27772ce69794"
      },
      "outputs": [],
      "source": [
        "def compile_and_fit(model, window, patience=3, max_epochs=50):\n",
        "    early_stopping = keras.callbacks.EarlyStopping(monitor='val_loss',\n",
        "                                   patience=patience,\n",
        "                                   mode='min')\n",
        "\n",
        "    model.compile(loss=keras.losses.MeanSquaredError(),\n",
        "                  optimizer=keras.optimizers.Adam(),\n",
        "                  metrics=[keras.metrics.MeanAbsoluteError()])\n",
        "\n",
        "    history = model.fit(window.train,\n",
        "                       epochs=max_epochs,\n",
        "                       validation_data=window.val,\n",
        "                       callbacks=[early_stopping])\n",
        "\n",
        "    return history"
      ]
    },
    {
      "cell_type": "markdown",
      "source": [
        "## 1D CNN model single-step forecast\n",
        "We use a 1D kernel of size 3 for the CNN in order to smooth the time series. The CNN model is trained to learn how to map the input features in a sequence to a target values, that is the traffic volume. The size of the output is given by\n",
        "\n",
        "$$o = i - k + 1$$\n",
        "\n",
        "where $o$ is the output, $i$ the input, and $k$ the kernel size."
      ],
      "metadata": {
        "id": "0BJHrELmoCml"
      },
      "id": "0BJHrELmoCml"
    },
    {
      "cell_type": "markdown",
      "source": [
        "We create a convolutional data window to train our CNN model and another data window for visualization purposes."
      ],
      "metadata": {
        "id": "y_Yf2luWwOvB"
      },
      "id": "y_Yf2luWwOvB"
    },
    {
      "cell_type": "code",
      "source": [
        "KERNEL_WIDTH = 3\n",
        "LABEL_WIDTH = 24\n",
        "INPUT_WIDTH = LABEL_WIDTH + KERNEL_WIDTH - 1\n",
        "conv_window = DataWindow(input_width=KERNEL_WIDTH, label_width=1, shift=1, label_columns=['traffic_volume'])\n",
        "wide_conv_window = DataWindow(input_width=INPUT_WIDTH, label_width=LABEL_WIDTH, shift=1, label_columns=['traffic_volume'])"
      ],
      "metadata": {
        "id": "0M6-_GtyoOq_"
      },
      "id": "0M6-_GtyoOq_",
      "execution_count": 6,
      "outputs": []
    },
    {
      "cell_type": "markdown",
      "source": [
        "The input are sequences of 26 elements of 5 variables each."
      ],
      "metadata": {
        "id": "SMmOQSRS2uXn"
      },
      "id": "SMmOQSRS2uXn"
    },
    {
      "cell_type": "code",
      "source": [
        "conv_window.column_indices"
      ],
      "metadata": {
        "colab": {
          "base_uri": "https://localhost:8080/"
        },
        "id": "MPRg8NOD2EUf",
        "outputId": "11e2d2f3-1e94-49be-9501-3db96e34fc96"
      },
      "id": "MPRg8NOD2EUf",
      "execution_count": 24,
      "outputs": [
        {
          "output_type": "execute_result",
          "data": {
            "text/plain": [
              "{'temp': 0, 'clouds_all': 1, 'traffic_volume': 2, 'day_sin': 3, 'day_cos': 4}"
            ]
          },
          "metadata": {},
          "execution_count": 24
        }
      ]
    },
    {
      "cell_type": "markdown",
      "source": [
        "the output is a sequence of 26 elements of the target variable, traffic volume shifted by one"
      ],
      "metadata": {
        "id": "ouzD0Yv13GPk"
      },
      "id": "ouzD0Yv13GPk"
    },
    {
      "cell_type": "code",
      "source": [
        "conv_window.label_columns_indices"
      ],
      "metadata": {
        "colab": {
          "base_uri": "https://localhost:8080/"
        },
        "id": "QKW7b7mV1euX",
        "outputId": "516a6df2-4295-46ba-bf8c-cad386bedea9"
      },
      "id": "QKW7b7mV1euX",
      "execution_count": 25,
      "outputs": [
        {
          "output_type": "execute_result",
          "data": {
            "text/plain": [
              "{'traffic_volume': 0}"
            ]
          },
          "metadata": {},
          "execution_count": 25
        }
      ]
    },
    {
      "cell_type": "markdown",
      "source": [
        "We build a sequential model with a [1D convolutional layer](https://keras.io/api/layers/convolution_layers/convolution1d/), and two fully connected layers."
      ],
      "metadata": {
        "id": "RmalpR9_vDj3"
      },
      "id": "RmalpR9_vDj3"
    },
    {
      "cell_type": "code",
      "source": [
        "cnn_model = keras.Sequential([\n",
        "    layers.Conv1D(filters=32,\n",
        "             kernel_size=(KERNEL_WIDTH,),\n",
        "             activation='relu'),\n",
        "    layers.Dense(units=32, activation='relu'),\n",
        "    layers.Dense(units=1)\n",
        "])"
      ],
      "metadata": {
        "id": "gflE6YIrqb1e"
      },
      "id": "gflE6YIrqb1e",
      "execution_count": 7,
      "outputs": []
    },
    {
      "cell_type": "code",
      "source": [
        "history = compile_and_fit(cnn_model, conv_window)"
      ],
      "metadata": {
        "colab": {
          "base_uri": "https://localhost:8080/"
        },
        "id": "jaQ8gD0GvAtw",
        "outputId": "a0536cc7-44a9-459a-eb7e-6a104261aa50"
      },
      "id": "jaQ8gD0GvAtw",
      "execution_count": 8,
      "outputs": [
        {
          "output_type": "stream",
          "name": "stdout",
          "text": [
            "Epoch 1/50\n",
            "\u001b[1m384/384\u001b[0m \u001b[32m━━━━━━━━━━━━━━━━━━━━\u001b[0m\u001b[37m\u001b[0m \u001b[1m3s\u001b[0m 4ms/step - loss: 0.0694 - mean_absolute_error: 0.1812 - val_loss: 0.0082 - val_mean_absolute_error: 0.0656\n",
            "Epoch 2/50\n",
            "\u001b[1m384/384\u001b[0m \u001b[32m━━━━━━━━━━━━━━━━━━━━\u001b[0m\u001b[37m\u001b[0m \u001b[1m1s\u001b[0m 3ms/step - loss: 0.0072 - mean_absolute_error: 0.0608 - val_loss: 0.0050 - val_mean_absolute_error: 0.0520\n",
            "Epoch 3/50\n",
            "\u001b[1m384/384\u001b[0m \u001b[32m━━━━━━━━━━━━━━━━━━━━\u001b[0m\u001b[37m\u001b[0m \u001b[1m1s\u001b[0m 3ms/step - loss: 0.0051 - mean_absolute_error: 0.0512 - val_loss: 0.0039 - val_mean_absolute_error: 0.0461\n",
            "Epoch 4/50\n",
            "\u001b[1m384/384\u001b[0m \u001b[32m━━━━━━━━━━━━━━━━━━━━\u001b[0m\u001b[37m\u001b[0m \u001b[1m3s\u001b[0m 3ms/step - loss: 0.0042 - mean_absolute_error: 0.0466 - val_loss: 0.0034 - val_mean_absolute_error: 0.0433\n",
            "Epoch 5/50\n",
            "\u001b[1m384/384\u001b[0m \u001b[32m━━━━━━━━━━━━━━━━━━━━\u001b[0m\u001b[37m\u001b[0m \u001b[1m3s\u001b[0m 5ms/step - loss: 0.0038 - mean_absolute_error: 0.0447 - val_loss: 0.0028 - val_mean_absolute_error: 0.0392\n",
            "Epoch 6/50\n",
            "\u001b[1m384/384\u001b[0m \u001b[32m━━━━━━━━━━━━━━━━━━━━\u001b[0m\u001b[37m\u001b[0m \u001b[1m2s\u001b[0m 3ms/step - loss: 0.0034 - mean_absolute_error: 0.0416 - val_loss: 0.0029 - val_mean_absolute_error: 0.0410\n",
            "Epoch 7/50\n",
            "\u001b[1m384/384\u001b[0m \u001b[32m━━━━━━━━━━━━━━━━━━━━\u001b[0m\u001b[37m\u001b[0m \u001b[1m1s\u001b[0m 3ms/step - loss: 0.0032 - mean_absolute_error: 0.0405 - val_loss: 0.0028 - val_mean_absolute_error: 0.0401\n",
            "Epoch 8/50\n",
            "\u001b[1m384/384\u001b[0m \u001b[32m━━━━━━━━━━━━━━━━━━━━\u001b[0m\u001b[37m\u001b[0m \u001b[1m3s\u001b[0m 3ms/step - loss: 0.0030 - mean_absolute_error: 0.0393 - val_loss: 0.0027 - val_mean_absolute_error: 0.0409\n",
            "Epoch 9/50\n",
            "\u001b[1m384/384\u001b[0m \u001b[32m━━━━━━━━━━━━━━━━━━━━\u001b[0m\u001b[37m\u001b[0m \u001b[1m2s\u001b[0m 3ms/step - loss: 0.0030 - mean_absolute_error: 0.0389 - val_loss: 0.0023 - val_mean_absolute_error: 0.0349\n",
            "Epoch 10/50\n",
            "\u001b[1m384/384\u001b[0m \u001b[32m━━━━━━━━━━━━━━━━━━━━\u001b[0m\u001b[37m\u001b[0m \u001b[1m3s\u001b[0m 5ms/step - loss: 0.0029 - mean_absolute_error: 0.0378 - val_loss: 0.0022 - val_mean_absolute_error: 0.0346\n",
            "Epoch 11/50\n",
            "\u001b[1m384/384\u001b[0m \u001b[32m━━━━━━━━━━━━━━━━━━━━\u001b[0m\u001b[37m\u001b[0m \u001b[1m1s\u001b[0m 3ms/step - loss: 0.0028 - mean_absolute_error: 0.0370 - val_loss: 0.0023 - val_mean_absolute_error: 0.0363\n",
            "Epoch 12/50\n",
            "\u001b[1m384/384\u001b[0m \u001b[32m━━━━━━━━━━━━━━━━━━━━\u001b[0m\u001b[37m\u001b[0m \u001b[1m2s\u001b[0m 3ms/step - loss: 0.0027 - mean_absolute_error: 0.0362 - val_loss: 0.0022 - val_mean_absolute_error: 0.0347\n",
            "Epoch 13/50\n",
            "\u001b[1m384/384\u001b[0m \u001b[32m━━━━━━━━━━━━━━━━━━━━\u001b[0m\u001b[37m\u001b[0m \u001b[1m1s\u001b[0m 3ms/step - loss: 0.0027 - mean_absolute_error: 0.0364 - val_loss: 0.0020 - val_mean_absolute_error: 0.0326\n",
            "Epoch 14/50\n",
            "\u001b[1m384/384\u001b[0m \u001b[32m━━━━━━━━━━━━━━━━━━━━\u001b[0m\u001b[37m\u001b[0m \u001b[1m1s\u001b[0m 3ms/step - loss: 0.0027 - mean_absolute_error: 0.0359 - val_loss: 0.0020 - val_mean_absolute_error: 0.0323\n",
            "Epoch 15/50\n",
            "\u001b[1m384/384\u001b[0m \u001b[32m━━━━━━━━━━━━━━━━━━━━\u001b[0m\u001b[37m\u001b[0m \u001b[1m1s\u001b[0m 3ms/step - loss: 0.0026 - mean_absolute_error: 0.0358 - val_loss: 0.0019 - val_mean_absolute_error: 0.0324\n",
            "Epoch 16/50\n",
            "\u001b[1m384/384\u001b[0m \u001b[32m━━━━━━━━━━━━━━━━━━━━\u001b[0m\u001b[37m\u001b[0m \u001b[1m3s\u001b[0m 5ms/step - loss: 0.0027 - mean_absolute_error: 0.0361 - val_loss: 0.0020 - val_mean_absolute_error: 0.0322\n",
            "Epoch 17/50\n",
            "\u001b[1m384/384\u001b[0m \u001b[32m━━━━━━━━━━━━━━━━━━━━\u001b[0m\u001b[37m\u001b[0m \u001b[1m1s\u001b[0m 3ms/step - loss: 0.0027 - mean_absolute_error: 0.0361 - val_loss: 0.0022 - val_mean_absolute_error: 0.0341\n",
            "Epoch 18/50\n",
            "\u001b[1m384/384\u001b[0m \u001b[32m━━━━━━━━━━━━━━━━━━━━\u001b[0m\u001b[37m\u001b[0m \u001b[1m2s\u001b[0m 3ms/step - loss: 0.0026 - mean_absolute_error: 0.0354 - val_loss: 0.0019 - val_mean_absolute_error: 0.0315\n",
            "Epoch 19/50\n",
            "\u001b[1m384/384\u001b[0m \u001b[32m━━━━━━━━━━━━━━━━━━━━\u001b[0m\u001b[37m\u001b[0m \u001b[1m3s\u001b[0m 3ms/step - loss: 0.0026 - mean_absolute_error: 0.0352 - val_loss: 0.0019 - val_mean_absolute_error: 0.0318\n",
            "Epoch 20/50\n",
            "\u001b[1m384/384\u001b[0m \u001b[32m━━━━━━━━━━━━━━━━━━━━\u001b[0m\u001b[37m\u001b[0m \u001b[1m3s\u001b[0m 3ms/step - loss: 0.0026 - mean_absolute_error: 0.0356 - val_loss: 0.0020 - val_mean_absolute_error: 0.0320\n",
            "Epoch 21/50\n",
            "\u001b[1m384/384\u001b[0m \u001b[32m━━━━━━━━━━━━━━━━━━━━\u001b[0m\u001b[37m\u001b[0m \u001b[1m3s\u001b[0m 5ms/step - loss: 0.0025 - mean_absolute_error: 0.0345 - val_loss: 0.0019 - val_mean_absolute_error: 0.0306\n",
            "Epoch 22/50\n",
            "\u001b[1m384/384\u001b[0m \u001b[32m━━━━━━━━━━━━━━━━━━━━\u001b[0m\u001b[37m\u001b[0m \u001b[1m2s\u001b[0m 3ms/step - loss: 0.0025 - mean_absolute_error: 0.0347 - val_loss: 0.0018 - val_mean_absolute_error: 0.0307\n",
            "Epoch 23/50\n",
            "\u001b[1m384/384\u001b[0m \u001b[32m━━━━━━━━━━━━━━━━━━━━\u001b[0m\u001b[37m\u001b[0m \u001b[1m1s\u001b[0m 3ms/step - loss: 0.0025 - mean_absolute_error: 0.0345 - val_loss: 0.0019 - val_mean_absolute_error: 0.0308\n",
            "Epoch 24/50\n",
            "\u001b[1m384/384\u001b[0m \u001b[32m━━━━━━━━━━━━━━━━━━━━\u001b[0m\u001b[37m\u001b[0m \u001b[1m1s\u001b[0m 3ms/step - loss: 0.0025 - mean_absolute_error: 0.0346 - val_loss: 0.0018 - val_mean_absolute_error: 0.0304\n",
            "Epoch 25/50\n",
            "\u001b[1m384/384\u001b[0m \u001b[32m━━━━━━━━━━━━━━━━━━━━\u001b[0m\u001b[37m\u001b[0m \u001b[1m3s\u001b[0m 3ms/step - loss: 0.0024 - mean_absolute_error: 0.0336 - val_loss: 0.0021 - val_mean_absolute_error: 0.0350\n",
            "Epoch 26/50\n",
            "\u001b[1m384/384\u001b[0m \u001b[32m━━━━━━━━━━━━━━━━━━━━\u001b[0m\u001b[37m\u001b[0m \u001b[1m3s\u001b[0m 4ms/step - loss: 0.0024 - mean_absolute_error: 0.0342 - val_loss: 0.0018 - val_mean_absolute_error: 0.0311\n",
            "Epoch 27/50\n",
            "\u001b[1m384/384\u001b[0m \u001b[32m━━━━━━━━━━━━━━━━━━━━\u001b[0m\u001b[37m\u001b[0m \u001b[1m2s\u001b[0m 3ms/step - loss: 0.0024 - mean_absolute_error: 0.0338 - val_loss: 0.0019 - val_mean_absolute_error: 0.0319\n"
          ]
        }
      ]
    },
    {
      "cell_type": "code",
      "source": [
        "cnn_model.summary()"
      ],
      "metadata": {
        "colab": {
          "base_uri": "https://localhost:8080/",
          "height": 241
        },
        "id": "a_XDE3mP7b2r",
        "outputId": "953cd312-8123-419e-b46c-866a9e8c24f4"
      },
      "id": "a_XDE3mP7b2r",
      "execution_count": 28,
      "outputs": [
        {
          "output_type": "display_data",
          "data": {
            "text/plain": [
              "\u001b[1mModel: \"sequential\"\u001b[0m\n"
            ],
            "text/html": [
              "<pre style=\"white-space:pre;overflow-x:auto;line-height:normal;font-family:Menlo,'DejaVu Sans Mono',consolas,'Courier New',monospace\"><span style=\"font-weight: bold\">Model: \"sequential\"</span>\n",
              "</pre>\n"
            ]
          },
          "metadata": {}
        },
        {
          "output_type": "display_data",
          "data": {
            "text/plain": [
              "┏━━━━━━━━━━━━━━━━━━━━━━━━━━━━━━━━━━━━━━┳━━━━━━━━━━━━━━━━━━━━━━━━━━━━━┳━━━━━━━━━━━━━━━━━┓\n",
              "┃\u001b[1m \u001b[0m\u001b[1mLayer (type)                        \u001b[0m\u001b[1m \u001b[0m┃\u001b[1m \u001b[0m\u001b[1mOutput Shape               \u001b[0m\u001b[1m \u001b[0m┃\u001b[1m \u001b[0m\u001b[1m        Param #\u001b[0m\u001b[1m \u001b[0m┃\n",
              "┡━━━━━━━━━━━━━━━━━━━━━━━━━━━━━━━━━━━━━━╇━━━━━━━━━━━━━━━━━━━━━━━━━━━━━╇━━━━━━━━━━━━━━━━━┩\n",
              "│ conv1d (\u001b[38;5;33mConv1D\u001b[0m)                      │ (\u001b[38;5;45mNone\u001b[0m, \u001b[38;5;34m1\u001b[0m, \u001b[38;5;34m32\u001b[0m)               │             \u001b[38;5;34m512\u001b[0m │\n",
              "├──────────────────────────────────────┼─────────────────────────────┼─────────────────┤\n",
              "│ dense (\u001b[38;5;33mDense\u001b[0m)                        │ (\u001b[38;5;45mNone\u001b[0m, \u001b[38;5;34m1\u001b[0m, \u001b[38;5;34m32\u001b[0m)               │           \u001b[38;5;34m1,056\u001b[0m │\n",
              "├──────────────────────────────────────┼─────────────────────────────┼─────────────────┤\n",
              "│ dense_1 (\u001b[38;5;33mDense\u001b[0m)                      │ (\u001b[38;5;45mNone\u001b[0m, \u001b[38;5;34m1\u001b[0m, \u001b[38;5;34m1\u001b[0m)                │              \u001b[38;5;34m33\u001b[0m │\n",
              "└──────────────────────────────────────┴─────────────────────────────┴─────────────────┘\n"
            ],
            "text/html": [
              "<pre style=\"white-space:pre;overflow-x:auto;line-height:normal;font-family:Menlo,'DejaVu Sans Mono',consolas,'Courier New',monospace\">┏━━━━━━━━━━━━━━━━━━━━━━━━━━━━━━━━━━━━━━┳━━━━━━━━━━━━━━━━━━━━━━━━━━━━━┳━━━━━━━━━━━━━━━━━┓\n",
              "┃<span style=\"font-weight: bold\"> Layer (type)                         </span>┃<span style=\"font-weight: bold\"> Output Shape                </span>┃<span style=\"font-weight: bold\">         Param # </span>┃\n",
              "┡━━━━━━━━━━━━━━━━━━━━━━━━━━━━━━━━━━━━━━╇━━━━━━━━━━━━━━━━━━━━━━━━━━━━━╇━━━━━━━━━━━━━━━━━┩\n",
              "│ conv1d (<span style=\"color: #0087ff; text-decoration-color: #0087ff\">Conv1D</span>)                      │ (<span style=\"color: #00d7ff; text-decoration-color: #00d7ff\">None</span>, <span style=\"color: #00af00; text-decoration-color: #00af00\">1</span>, <span style=\"color: #00af00; text-decoration-color: #00af00\">32</span>)               │             <span style=\"color: #00af00; text-decoration-color: #00af00\">512</span> │\n",
              "├──────────────────────────────────────┼─────────────────────────────┼─────────────────┤\n",
              "│ dense (<span style=\"color: #0087ff; text-decoration-color: #0087ff\">Dense</span>)                        │ (<span style=\"color: #00d7ff; text-decoration-color: #00d7ff\">None</span>, <span style=\"color: #00af00; text-decoration-color: #00af00\">1</span>, <span style=\"color: #00af00; text-decoration-color: #00af00\">32</span>)               │           <span style=\"color: #00af00; text-decoration-color: #00af00\">1,056</span> │\n",
              "├──────────────────────────────────────┼─────────────────────────────┼─────────────────┤\n",
              "│ dense_1 (<span style=\"color: #0087ff; text-decoration-color: #0087ff\">Dense</span>)                      │ (<span style=\"color: #00d7ff; text-decoration-color: #00d7ff\">None</span>, <span style=\"color: #00af00; text-decoration-color: #00af00\">1</span>, <span style=\"color: #00af00; text-decoration-color: #00af00\">1</span>)                │              <span style=\"color: #00af00; text-decoration-color: #00af00\">33</span> │\n",
              "└──────────────────────────────────────┴─────────────────────────────┴─────────────────┘\n",
              "</pre>\n"
            ]
          },
          "metadata": {}
        },
        {
          "output_type": "display_data",
          "data": {
            "text/plain": [
              "\u001b[1m Total params: \u001b[0m\u001b[38;5;34m4,805\u001b[0m (18.77 KB)\n"
            ],
            "text/html": [
              "<pre style=\"white-space:pre;overflow-x:auto;line-height:normal;font-family:Menlo,'DejaVu Sans Mono',consolas,'Courier New',monospace\"><span style=\"font-weight: bold\"> Total params: </span><span style=\"color: #00af00; text-decoration-color: #00af00\">4,805</span> (18.77 KB)\n",
              "</pre>\n"
            ]
          },
          "metadata": {}
        },
        {
          "output_type": "display_data",
          "data": {
            "text/plain": [
              "\u001b[1m Trainable params: \u001b[0m\u001b[38;5;34m1,601\u001b[0m (6.25 KB)\n"
            ],
            "text/html": [
              "<pre style=\"white-space:pre;overflow-x:auto;line-height:normal;font-family:Menlo,'DejaVu Sans Mono',consolas,'Courier New',monospace\"><span style=\"font-weight: bold\"> Trainable params: </span><span style=\"color: #00af00; text-decoration-color: #00af00\">1,601</span> (6.25 KB)\n",
              "</pre>\n"
            ]
          },
          "metadata": {}
        },
        {
          "output_type": "display_data",
          "data": {
            "text/plain": [
              "\u001b[1m Non-trainable params: \u001b[0m\u001b[38;5;34m0\u001b[0m (0.00 B)\n"
            ],
            "text/html": [
              "<pre style=\"white-space:pre;overflow-x:auto;line-height:normal;font-family:Menlo,'DejaVu Sans Mono',consolas,'Courier New',monospace\"><span style=\"font-weight: bold\"> Non-trainable params: </span><span style=\"color: #00af00; text-decoration-color: #00af00\">0</span> (0.00 B)\n",
              "</pre>\n"
            ]
          },
          "metadata": {}
        },
        {
          "output_type": "display_data",
          "data": {
            "text/plain": [
              "\u001b[1m Optimizer params: \u001b[0m\u001b[38;5;34m3,204\u001b[0m (12.52 KB)\n"
            ],
            "text/html": [
              "<pre style=\"white-space:pre;overflow-x:auto;line-height:normal;font-family:Menlo,'DejaVu Sans Mono',consolas,'Courier New',monospace\"><span style=\"font-weight: bold\"> Optimizer params: </span><span style=\"color: #00af00; text-decoration-color: #00af00\">3,204</span> (12.52 KB)\n",
              "</pre>\n"
            ]
          },
          "metadata": {}
        }
      ]
    },
    {
      "cell_type": "code",
      "source": [
        "val_performance = {}\n",
        "performance = {}\n",
        "val_performance['CNN'] = cnn_model.evaluate(conv_window.val)\n",
        "performance['CNN'] = cnn_model.evaluate(conv_window.test, verbose=0)"
      ],
      "metadata": {
        "colab": {
          "base_uri": "https://localhost:8080/"
        },
        "id": "YJebu4zVzRD8",
        "outputId": "8644d6ab-f1f9-439f-f033-0a2c8e4a6a45"
      },
      "id": "YJebu4zVzRD8",
      "execution_count": 9,
      "outputs": [
        {
          "output_type": "stream",
          "name": "stdout",
          "text": [
            "\u001b[1m110/110\u001b[0m \u001b[32m━━━━━━━━━━━━━━━━━━━━\u001b[0m\u001b[37m\u001b[0m \u001b[1m0s\u001b[0m 4ms/step - loss: 0.0019 - mean_absolute_error: 0.0318\n"
          ]
        }
      ]
    },
    {
      "cell_type": "markdown",
      "source": [
        "We plot the single-step predictions of the CNN model for the traffic volume"
      ],
      "metadata": {
        "id": "18Ky3JPg5ZQj"
      },
      "id": "18Ky3JPg5ZQj"
    },
    {
      "cell_type": "code",
      "source": [
        "wide_conv_window.plot(cnn_model)"
      ],
      "metadata": {
        "colab": {
          "base_uri": "https://localhost:8080/",
          "height": 696
        },
        "id": "4SCN9URO1Gl2",
        "outputId": "94b1e73b-b750-49c4-e2cf-9b148e7e6da9"
      },
      "id": "4SCN9URO1Gl2",
      "execution_count": 27,
      "outputs": [
        {
          "output_type": "display_data",
          "data": {
            "text/plain": [
              "<Figure size 1200x800 with 3 Axes>"
            ],
            "image/png": "[encoded data removed]"
          },
          "metadata": {}
        }
      ]
    },
    {
      "cell_type": "markdown",
      "source": [
        "## 1D CNN + LSTM model single-step forecast\n",
        "We combine a 1D CNN layer and an LSTM layer to test whether using a 1D CNN before a LSTM can improve the result of the LSTM alone."
      ],
      "metadata": {
        "id": "4yOiBzAL74Jg"
      },
      "id": "4yOiBzAL74Jg"
    },
    {
      "cell_type": "code",
      "source": [
        "cnn_lstm_model = keras.Sequential([\n",
        "    layers.Conv1D(filters=32,\n",
        "          kernel_size=(KERNEL_WIDTH,),\n",
        "          activation='relu'),\n",
        "    layers.LSTM(32, return_sequences=True),\n",
        "    # LSTM(32, return_sequences=True),\n",
        "    layers.Dense(1)\n",
        "])"
      ],
      "metadata": {
        "id": "7IjFHD6s5QJL"
      },
      "id": "7IjFHD6s5QJL",
      "execution_count": 29,
      "outputs": []
    },
    {
      "cell_type": "code",
      "source": [
        "history = compile_and_fit(cnn_lstm_model, conv_window)"
      ],
      "metadata": {
        "id": "ANK59LogFNz4",
        "outputId": "cebfa27b-28b4-4c29-f30a-becf7cfcfb50",
        "colab": {
          "base_uri": "https://localhost:8080/"
        }
      },
      "id": "ANK59LogFNz4",
      "execution_count": 30,
      "outputs": [
        {
          "output_type": "stream",
          "name": "stdout",
          "text": [
            "Epoch 1/50\n",
            "\u001b[1m384/384\u001b[0m \u001b[32m━━━━━━━━━━━━━━━━━━━━\u001b[0m\u001b[37m\u001b[0m \u001b[1m3s\u001b[0m 4ms/step - loss: 0.0644 - mean_absolute_error: 0.1755 - val_loss: 0.0075 - val_mean_absolute_error: 0.0624\n",
            "Epoch 2/50\n",
            "\u001b[1m384/384\u001b[0m \u001b[32m━━━━━━━━━━━━━━━━━━━━\u001b[0m\u001b[37m\u001b[0m \u001b[1m1s\u001b[0m 4ms/step - loss: 0.0070 - mean_absolute_error: 0.0615 - val_loss: 0.0055 - val_mean_absolute_error: 0.0574\n",
            "Epoch 3/50\n",
            "\u001b[1m384/384\u001b[0m \u001b[32m━━━━━━━━━━━━━━━━━━━━\u001b[0m\u001b[37m\u001b[0m \u001b[1m3s\u001b[0m 4ms/step - loss: 0.0054 - mean_absolute_error: 0.0539 - val_loss: 0.0040 - val_mean_absolute_error: 0.0473\n",
            "Epoch 4/50\n",
            "\u001b[1m384/384\u001b[0m \u001b[32m━━━━━━━━━━━━━━━━━━━━\u001b[0m\u001b[37m\u001b[0m \u001b[1m1s\u001b[0m 3ms/step - loss: 0.0047 - mean_absolute_error: 0.0504 - val_loss: 0.0035 - val_mean_absolute_error: 0.0450\n",
            "Epoch 5/50\n",
            "\u001b[1m384/384\u001b[0m \u001b[32m━━━━━━━━━━━━━━━━━━━━\u001b[0m\u001b[37m\u001b[0m \u001b[1m1s\u001b[0m 4ms/step - loss: 0.0041 - mean_absolute_error: 0.0470 - val_loss: 0.0030 - val_mean_absolute_error: 0.0411\n",
            "Epoch 6/50\n",
            "\u001b[1m384/384\u001b[0m \u001b[32m━━━━━━━━━━━━━━━━━━━━\u001b[0m\u001b[37m\u001b[0m \u001b[1m3s\u001b[0m 4ms/step - loss: 0.0036 - mean_absolute_error: 0.0438 - val_loss: 0.0037 - val_mean_absolute_error: 0.0480\n",
            "Epoch 7/50\n",
            "\u001b[1m384/384\u001b[0m \u001b[32m━━━━━━━━━━━━━━━━━━━━\u001b[0m\u001b[37m\u001b[0m \u001b[1m3s\u001b[0m 4ms/step - loss: 0.0034 - mean_absolute_error: 0.0424 - val_loss: 0.0039 - val_mean_absolute_error: 0.0481\n",
            "Epoch 8/50\n",
            "\u001b[1m384/384\u001b[0m \u001b[32m━━━━━━━━━━━━━━━━━━━━\u001b[0m\u001b[37m\u001b[0m \u001b[1m2s\u001b[0m 4ms/step - loss: 0.0032 - mean_absolute_error: 0.0411 - val_loss: 0.0026 - val_mean_absolute_error: 0.0382\n",
            "Epoch 9/50\n",
            "\u001b[1m384/384\u001b[0m \u001b[32m━━━━━━━━━━━━━━━━━━━━\u001b[0m\u001b[37m\u001b[0m \u001b[1m2s\u001b[0m 4ms/step - loss: 0.0029 - mean_absolute_error: 0.0392 - val_loss: 0.0025 - val_mean_absolute_error: 0.0382\n",
            "Epoch 10/50\n",
            "\u001b[1m384/384\u001b[0m \u001b[32m━━━━━━━━━━━━━━━━━━━━\u001b[0m\u001b[37m\u001b[0m \u001b[1m2s\u001b[0m 4ms/step - loss: 0.0029 - mean_absolute_error: 0.0390 - val_loss: 0.0024 - val_mean_absolute_error: 0.0369\n",
            "Epoch 11/50\n",
            "\u001b[1m384/384\u001b[0m \u001b[32m━━━━━━━━━━━━━━━━━━━━\u001b[0m\u001b[37m\u001b[0m \u001b[1m3s\u001b[0m 4ms/step - loss: 0.0028 - mean_absolute_error: 0.0383 - val_loss: 0.0031 - val_mean_absolute_error: 0.0436\n",
            "Epoch 12/50\n",
            "\u001b[1m384/384\u001b[0m \u001b[32m━━━━━━━━━━━━━━━━━━━━\u001b[0m\u001b[37m\u001b[0m \u001b[1m3s\u001b[0m 4ms/step - loss: 0.0028 - mean_absolute_error: 0.0379 - val_loss: 0.0023 - val_mean_absolute_error: 0.0360\n",
            "Epoch 13/50\n",
            "\u001b[1m384/384\u001b[0m \u001b[32m━━━━━━━━━━━━━━━━━━━━\u001b[0m\u001b[37m\u001b[0m \u001b[1m2s\u001b[0m 6ms/step - loss: 0.0027 - mean_absolute_error: 0.0373 - val_loss: 0.0028 - val_mean_absolute_error: 0.0411\n",
            "Epoch 14/50\n",
            "\u001b[1m384/384\u001b[0m \u001b[32m━━━━━━━━━━━━━━━━━━━━\u001b[0m\u001b[37m\u001b[0m \u001b[1m2s\u001b[0m 4ms/step - loss: 0.0027 - mean_absolute_error: 0.0373 - val_loss: 0.0022 - val_mean_absolute_error: 0.0345\n",
            "Epoch 15/50\n",
            "\u001b[1m384/384\u001b[0m \u001b[32m━━━━━━━━━━━━━━━━━━━━\u001b[0m\u001b[37m\u001b[0m \u001b[1m2s\u001b[0m 4ms/step - loss: 0.0026 - mean_absolute_error: 0.0369 - val_loss: 0.0021 - val_mean_absolute_error: 0.0340\n",
            "Epoch 16/50\n",
            "\u001b[1m384/384\u001b[0m \u001b[32m━━━━━━━━━━━━━━━━━━━━\u001b[0m\u001b[37m\u001b[0m \u001b[1m3s\u001b[0m 4ms/step - loss: 0.0026 - mean_absolute_error: 0.0359 - val_loss: 0.0021 - val_mean_absolute_error: 0.0341\n",
            "Epoch 17/50\n",
            "\u001b[1m384/384\u001b[0m \u001b[32m━━━━━━━━━━━━━━━━━━━━\u001b[0m\u001b[37m\u001b[0m \u001b[1m3s\u001b[0m 4ms/step - loss: 0.0025 - mean_absolute_error: 0.0358 - val_loss: 0.0021 - val_mean_absolute_error: 0.0338\n",
            "Epoch 18/50\n",
            "\u001b[1m384/384\u001b[0m \u001b[32m━━━━━━━━━━━━━━━━━━━━\u001b[0m\u001b[37m\u001b[0m \u001b[1m2s\u001b[0m 5ms/step - loss: 0.0025 - mean_absolute_error: 0.0356 - val_loss: 0.0025 - val_mean_absolute_error: 0.0381\n",
            "Epoch 19/50\n",
            "\u001b[1m384/384\u001b[0m \u001b[32m━━━━━━━━━━━━━━━━━━━━\u001b[0m\u001b[37m\u001b[0m \u001b[1m1s\u001b[0m 4ms/step - loss: 0.0025 - mean_absolute_error: 0.0360 - val_loss: 0.0020 - val_mean_absolute_error: 0.0332\n",
            "Epoch 20/50\n",
            "\u001b[1m384/384\u001b[0m \u001b[32m━━━━━━━━━━━━━━━━━━━━\u001b[0m\u001b[37m\u001b[0m \u001b[1m3s\u001b[0m 4ms/step - loss: 0.0024 - mean_absolute_error: 0.0350 - val_loss: 0.0021 - val_mean_absolute_error: 0.0331\n",
            "Epoch 21/50\n",
            "\u001b[1m384/384\u001b[0m \u001b[32m━━━━━━━━━━━━━━━━━━━━\u001b[0m\u001b[37m\u001b[0m \u001b[1m2s\u001b[0m 3ms/step - loss: 0.0024 - mean_absolute_error: 0.0346 - val_loss: 0.0024 - val_mean_absolute_error: 0.0373\n",
            "Epoch 22/50\n",
            "\u001b[1m384/384\u001b[0m \u001b[32m━━━━━━━━━━━━━━━━━━━━\u001b[0m\u001b[37m\u001b[0m \u001b[1m3s\u001b[0m 4ms/step - loss: 0.0024 - mean_absolute_error: 0.0350 - val_loss: 0.0021 - val_mean_absolute_error: 0.0337\n"
          ]
        }
      ]
    },
    {
      "cell_type": "code",
      "source": [
        "cnn_lstm_model.summary()"
      ],
      "metadata": {
        "id": "Uz1MzA4SGDPL",
        "outputId": "8ba84622-b9f6-4a37-cc6d-5071def41c83",
        "colab": {
          "base_uri": "https://localhost:8080/",
          "height": 241
        }
      },
      "id": "Uz1MzA4SGDPL",
      "execution_count": 32,
      "outputs": [
        {
          "output_type": "display_data",
          "data": {
            "text/plain": [
              "\u001b[1mModel: \"sequential_1\"\u001b[0m\n"
            ],
            "text/html": [
              "<pre style=\"white-space:pre;overflow-x:auto;line-height:normal;font-family:Menlo,'DejaVu Sans Mono',consolas,'Courier New',monospace\"><span style=\"font-weight: bold\">Model: \"sequential_1\"</span>\n",
              "</pre>\n"
            ]
          },
          "metadata": {}
        },
        {
          "output_type": "display_data",
          "data": {
            "text/plain": [
              "┏━━━━━━━━━━━━━━━━━━━━━━━━━━━━━━━━━━━━━━┳━━━━━━━━━━━━━━━━━━━━━━━━━━━━━┳━━━━━━━━━━━━━━━━━┓\n",
              "┃\u001b[1m \u001b[0m\u001b[1mLayer (type)                        \u001b[0m\u001b[1m \u001b[0m┃\u001b[1m \u001b[0m\u001b[1mOutput Shape               \u001b[0m\u001b[1m \u001b[0m┃\u001b[1m \u001b[0m\u001b[1m        Param #\u001b[0m\u001b[1m \u001b[0m┃\n",
              "┡━━━━━━━━━━━━━━━━━━━━━━━━━━━━━━━━━━━━━━╇━━━━━━━━━━━━━━━━━━━━━━━━━━━━━╇━━━━━━━━━━━━━━━━━┩\n",
              "│ conv1d_1 (\u001b[38;5;33mConv1D\u001b[0m)                    │ (\u001b[38;5;45mNone\u001b[0m, \u001b[38;5;34m1\u001b[0m, \u001b[38;5;34m32\u001b[0m)               │             \u001b[38;5;34m512\u001b[0m │\n",
              "├──────────────────────────────────────┼─────────────────────────────┼─────────────────┤\n",
              "│ lstm (\u001b[38;5;33mLSTM\u001b[0m)                          │ (\u001b[38;5;45mNone\u001b[0m, \u001b[38;5;34m1\u001b[0m, \u001b[38;5;34m32\u001b[0m)               │           \u001b[38;5;34m8,320\u001b[0m │\n",
              "├──────────────────────────────────────┼─────────────────────────────┼─────────────────┤\n",
              "│ dense_2 (\u001b[38;5;33mDense\u001b[0m)                      │ (\u001b[38;5;45mNone\u001b[0m, \u001b[38;5;34m1\u001b[0m, \u001b[38;5;34m1\u001b[0m)                │              \u001b[38;5;34m33\u001b[0m │\n",
              "└──────────────────────────────────────┴─────────────────────────────┴─────────────────┘\n"
            ],
            "text/html": [
              "<pre style=\"white-space:pre;overflow-x:auto;line-height:normal;font-family:Menlo,'DejaVu Sans Mono',consolas,'Courier New',monospace\">┏━━━━━━━━━━━━━━━━━━━━━━━━━━━━━━━━━━━━━━┳━━━━━━━━━━━━━━━━━━━━━━━━━━━━━┳━━━━━━━━━━━━━━━━━┓\n",
              "┃<span style=\"font-weight: bold\"> Layer (type)                         </span>┃<span style=\"font-weight: bold\"> Output Shape                </span>┃<span style=\"font-weight: bold\">         Param # </span>┃\n",
              "┡━━━━━━━━━━━━━━━━━━━━━━━━━━━━━━━━━━━━━━╇━━━━━━━━━━━━━━━━━━━━━━━━━━━━━╇━━━━━━━━━━━━━━━━━┩\n",
              "│ conv1d_1 (<span style=\"color: #0087ff; text-decoration-color: #0087ff\">Conv1D</span>)                    │ (<span style=\"color: #00d7ff; text-decoration-color: #00d7ff\">None</span>, <span style=\"color: #00af00; text-decoration-color: #00af00\">1</span>, <span style=\"color: #00af00; text-decoration-color: #00af00\">32</span>)               │             <span style=\"color: #00af00; text-decoration-color: #00af00\">512</span> │\n",
              "├──────────────────────────────────────┼─────────────────────────────┼─────────────────┤\n",
              "│ lstm (<span style=\"color: #0087ff; text-decoration-color: #0087ff\">LSTM</span>)                          │ (<span style=\"color: #00d7ff; text-decoration-color: #00d7ff\">None</span>, <span style=\"color: #00af00; text-decoration-color: #00af00\">1</span>, <span style=\"color: #00af00; text-decoration-color: #00af00\">32</span>)               │           <span style=\"color: #00af00; text-decoration-color: #00af00\">8,320</span> │\n",
              "├──────────────────────────────────────┼─────────────────────────────┼─────────────────┤\n",
              "│ dense_2 (<span style=\"color: #0087ff; text-decoration-color: #0087ff\">Dense</span>)                      │ (<span style=\"color: #00d7ff; text-decoration-color: #00d7ff\">None</span>, <span style=\"color: #00af00; text-decoration-color: #00af00\">1</span>, <span style=\"color: #00af00; text-decoration-color: #00af00\">1</span>)                │              <span style=\"color: #00af00; text-decoration-color: #00af00\">33</span> │\n",
              "└──────────────────────────────────────┴─────────────────────────────┴─────────────────┘\n",
              "</pre>\n"
            ]
          },
          "metadata": {}
        },
        {
          "output_type": "display_data",
          "data": {
            "text/plain": [
              "\u001b[1m Total params: \u001b[0m\u001b[38;5;34m26,597\u001b[0m (103.90 KB)\n"
            ],
            "text/html": [
              "<pre style=\"white-space:pre;overflow-x:auto;line-height:normal;font-family:Menlo,'DejaVu Sans Mono',consolas,'Courier New',monospace\"><span style=\"font-weight: bold\"> Total params: </span><span style=\"color: #00af00; text-decoration-color: #00af00\">26,597</span> (103.90 KB)\n",
              "</pre>\n"
            ]
          },
          "metadata": {}
        },
        {
          "output_type": "display_data",
          "data": {
            "text/plain": [
              "\u001b[1m Trainable params: \u001b[0m\u001b[38;5;34m8,865\u001b[0m (34.63 KB)\n"
            ],
            "text/html": [
              "<pre style=\"white-space:pre;overflow-x:auto;line-height:normal;font-family:Menlo,'DejaVu Sans Mono',consolas,'Courier New',monospace\"><span style=\"font-weight: bold\"> Trainable params: </span><span style=\"color: #00af00; text-decoration-color: #00af00\">8,865</span> (34.63 KB)\n",
              "</pre>\n"
            ]
          },
          "metadata": {}
        },
        {
          "output_type": "display_data",
          "data": {
            "text/plain": [
              "\u001b[1m Non-trainable params: \u001b[0m\u001b[38;5;34m0\u001b[0m (0.00 B)\n"
            ],
            "text/html": [
              "<pre style=\"white-space:pre;overflow-x:auto;line-height:normal;font-family:Menlo,'DejaVu Sans Mono',consolas,'Courier New',monospace\"><span style=\"font-weight: bold\"> Non-trainable params: </span><span style=\"color: #00af00; text-decoration-color: #00af00\">0</span> (0.00 B)\n",
              "</pre>\n"
            ]
          },
          "metadata": {}
        },
        {
          "output_type": "display_data",
          "data": {
            "text/plain": [
              "\u001b[1m Optimizer params: \u001b[0m\u001b[38;5;34m17,732\u001b[0m (69.27 KB)\n"
            ],
            "text/html": [
              "<pre style=\"white-space:pre;overflow-x:auto;line-height:normal;font-family:Menlo,'DejaVu Sans Mono',consolas,'Courier New',monospace\"><span style=\"font-weight: bold\"> Optimizer params: </span><span style=\"color: #00af00; text-decoration-color: #00af00\">17,732</span> (69.27 KB)\n",
              "</pre>\n"
            ]
          },
          "metadata": {}
        }
      ]
    },
    {
      "cell_type": "code",
      "source": [
        "val_performance['CNN + LSTM'] = cnn_lstm_model.evaluate(conv_window.val)\n",
        "performance['CNN + LSTM'] = cnn_lstm_model.evaluate(conv_window.test, verbose=0)"
      ],
      "metadata": {
        "id": "uD8MAEiRFTcK",
        "outputId": "f5efff9a-c776-4d8d-db61-0ead2311628c",
        "colab": {
          "base_uri": "https://localhost:8080/"
        }
      },
      "id": "uD8MAEiRFTcK",
      "execution_count": 31,
      "outputs": [
        {
          "output_type": "stream",
          "name": "stdout",
          "text": [
            "\u001b[1m110/110\u001b[0m \u001b[32m━━━━━━━━━━━━━━━━━━━━\u001b[0m\u001b[37m\u001b[0m \u001b[1m0s\u001b[0m 3ms/step - loss: 0.0021 - mean_absolute_error: 0.0336\n"
          ]
        }
      ]
    },
    {
      "cell_type": "markdown",
      "source": [
        "We compare the performances of all the models we have built so far."
      ],
      "metadata": {
        "id": "h1YBohDKG1yf"
      },
      "id": "h1YBohDKG1yf"
    },
    {
      "cell_type": "code",
      "source": [
        "mae_val = [0.083, 0.068, 0.033, 0.03]\n",
        "mae_test = [0.081, 0.068, 0.029, 0.026]\n",
        "mae_val.extend([v[1] for v in val_performance.values()])\n",
        "mae_test.extend([v[1] for v in performance.values()])"
      ],
      "metadata": {
        "id": "jBLvyBsCGYAj"
      },
      "id": "jBLvyBsCGYAj",
      "execution_count": 33,
      "outputs": []
    },
    {
      "cell_type": "code",
      "source": [
        "x = np.arange(6)\n",
        "\n",
        "labels = ['Baseline - Last', 'Linear', 'Neural Network', 'LSTM', 'CNN', 'CNN + LSTM']\n",
        "\n",
        "fig, ax = plt.subplots()\n",
        "ax.bar(x - 0.15, mae_val, width=0.25, color='black', edgecolor='black', label='Validation')\n",
        "ax.bar(x + 0.15, mae_test, width=0.25, color='white', edgecolor='black', hatch='/', label='Test')\n",
        "ax.set_ylabel('Mean absolute error')\n",
        "ax.set_xlabel('Models')\n",
        "\n",
        "for index, value in enumerate(mae_val):\n",
        "    plt.text(x=index - 0.15, y=value+0.0025, s=str(round(value, 3)), ha='center')\n",
        "\n",
        "for index, value in enumerate(mae_test):\n",
        "    plt.text(x=index + 0.15, y=value+0.0025, s=str(round(value, 3)), ha='center')\n",
        "\n",
        "plt.ylim(0, 0.1)\n",
        "plt.xticks(ticks=x, labels=labels)\n",
        "plt.legend(loc='best')\n",
        "plt.tight_layout()"
      ],
      "metadata": {
        "id": "vRMIhZp4GAAb",
        "outputId": "851ceb34-d95e-4cf0-8716-2970913ed270",
        "colab": {
          "base_uri": "https://localhost:8080/",
          "height": 487
        }
      },
      "id": "vRMIhZp4GAAb",
      "execution_count": 35,
      "outputs": [
        {
          "output_type": "display_data",
          "data": {
            "text/plain": [
              "<Figure size 640x480 with 1 Axes>"
            ],
            "image/png": "[encoded data removed]"
          },
          "metadata": {}
        }
      ]
    },
    {
      "cell_type": "markdown",
      "source": [
        "As we can see using a 1D CNN before a LSTM layer does not improve the result and the LSTM model alone is still the best model so far."
      ],
      "metadata": {
        "id": "zQ1QhLPJI-ZP"
      },
      "id": "zQ1QhLPJI-ZP"
    },
    {
      "cell_type": "markdown",
      "source": [
        "## 1D CNN model multi-step forecast\n"
      ],
      "metadata": {
        "id": "ezw9pFweMxUk"
      },
      "id": "ezw9pFweMxUk"
    },
    {
      "cell_type": "code",
      "source": [
        "multi_window = DataWindow(input_width=INPUT_WIDTH, label_width=LABEL_WIDTH, shift=24, label_columns=['traffic_volume'])"
      ],
      "metadata": {
        "id": "fDQjd3faYDma"
      },
      "id": "fDQjd3faYDma",
      "execution_count": 37,
      "outputs": []
    },
    {
      "cell_type": "code",
      "source": [
        "ms_cnn_model = keras.Sequential([\n",
        "  layers.Conv1D(32, activation='relu', kernel_size=(KERNEL_WIDTH)),\n",
        "  layers.Dense(units=32, activation='relu'),\n",
        "  layers.Dense(1, kernel_initializer=tf.initializers.zeros),\n",
        "])"
      ],
      "metadata": {
        "id": "E2oT4KFpGpbm"
      },
      "id": "E2oT4KFpGpbm",
      "execution_count": 36,
      "outputs": []
    },
    {
      "cell_type": "code",
      "source": [],
      "metadata": {
        "id": "2COo5jnLYTeb"
      },
      "id": "2COo5jnLYTeb",
      "execution_count": null,
      "outputs": []
    }
  ],
  "metadata": {
    "kernelspec": {
      "display_name": "Python 3 (ipykernel)",
      "language": "python",
      "name": "python3"
    },
    "language_info": {
      "codemirror_mode": {
        "name": "ipython",
        "version": 3
      },
      "file_extension": ".py",
      "mimetype": "text/x-python",
      "name": "python",
      "nbconvert_exporter": "python",
      "pygments_lexer": "ipython3",
      "version": "3.12.5"
    },
    "colab": {
      "provenance": [],
      "include_colab_link": true
    }
  },
  "nbformat": 4,
  "nbformat_minor": 5
}
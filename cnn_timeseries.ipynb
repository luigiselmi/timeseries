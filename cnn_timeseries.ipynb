{
 "cells": [
  {
   "cell_type": "markdown",
   "id": "79a89f80-a8b1-45e1-b3e1-537e0439baa5",
   "metadata": {},
   "source": [
    "# CNN for Time Series"
   ]
  },
  {
   "cell_type": "code",
   "execution_count": null,
   "id": "82a32b56-293b-4ec2-ad6e-a193d287d25d",
   "metadata": {},
   "outputs": [],
   "source": [
    "import numpy as np\n",
    "import pandas as pd\n",
    "import requests\n",
    "import matplotlib as mpl\n",
    "import matplotlib.pyplot as plt\n",
    "import datetime\n",
    "import tensorflow as tf\n",
    "import keras\n",
    "from keras import layers\n",
    "print('NumPy version: %s'%np.__version__)\n",
    "print('Pandas version: %s'%pd.__version__)\n",
    "print('Matplotlib version: %s'%mpl.__version__)\n",
    "print('TensorFlow version: %s'%tf.__version__)\n",
    "print('Keras version: %s'%keras.__version__)"
   ]
  }
 ],
 "metadata": {
  "kernelspec": {
   "display_name": "Python 3 (ipykernel)",
   "language": "python",
   "name": "python3"
  },
  "language_info": {
   "codemirror_mode": {
    "name": "ipython",
    "version": 3
   },
   "file_extension": ".py",
   "mimetype": "text/x-python",
   "name": "python",
   "nbconvert_exporter": "python",
   "pygments_lexer": "ipython3",
   "version": "3.12.5"
  }
 },
 "nbformat": 4,
 "nbformat_minor": 5
}

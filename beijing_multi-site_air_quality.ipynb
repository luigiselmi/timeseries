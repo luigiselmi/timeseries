{
 "cells": [
  {
   "cell_type": "markdown",
   "id": "650666ac-63a9-459e-a0ff-7773c6c616cc",
   "metadata": {},
   "source": [
    "# Beijing Multi-Site Air Quality\n",
    "The data set includes hourly air pollutants data from 12 nationally-controlled air-quality monitoring sites. The air-quality data are from the Beijing Municipal Environmental Monitoring Center. The meteorological data in each air-quality site are matched with the nearest weather station from the China Meteorological Administration. The time period is from March 1st, 2013 to February 28th, 2017. Missing data are denoted as NA."
   ]
  },
  {
   "cell_type": "code",
   "execution_count": 11,
   "id": "044947b2-c200-43b9-8020-2a0c68025eac",
   "metadata": {},
   "outputs": [
    {
     "name": "stdout",
     "output_type": "stream",
     "text": [
      "NumPy version: 1.26.4\n",
      "Pandas version: 2.2.2\n",
      "matplotlib version: 3.8.4\n"
     ]
    }
   ],
   "source": [
    "import requests\n",
    "from zipfile import ZipFile\n",
    "import numpy as np\n",
    "import pandas as pd\n",
    "import matplotlib as mpl\n",
    "import matplotlib.pyplot as plt\n",
    "import datetime\n",
    "#import tensorflow as tf\n",
    "print(\"NumPy version: %s\"%np.__version__)\n",
    "print('Pandas version: %s'%pd.__version__)\n",
    "print(\"matplotlib version: %s\"%mpl.__version__)"
   ]
  },
  {
   "cell_type": "code",
   "execution_count": 4,
   "id": "6d07f66f-dec2-4922-8708-85fc938048ea",
   "metadata": {},
   "outputs": [],
   "source": [
    "data_url = 'https://archive.ics.uci.edu/static/public/501/beijing+multi+site+air+quality+data.zip'"
   ]
  },
  {
   "cell_type": "code",
   "execution_count": 5,
   "id": "7e006ded-1e9f-4806-9f01-753cb46c174f",
   "metadata": {},
   "outputs": [],
   "source": [
    "r = requests.get(data_url)"
   ]
  },
  {
   "cell_type": "code",
   "execution_count": 16,
   "id": "76d3f3d9-3300-4dca-b431-d2c07e2dcb8b",
   "metadata": {},
   "outputs": [],
   "source": [
    "file_path = f'data/beijing_multi_site_air_quality/beijing+multi+site+air+quality+data.zip'\n",
    "with open(file_path, 'wb') as f:\n",
    "        f.write(r.content)"
   ]
  },
  {
   "cell_type": "code",
   "execution_count": 17,
   "id": "2796535f-6e58-4b81-82a2-2fe3d44ccbdb",
   "metadata": {},
   "outputs": [],
   "source": [
    "f.close()"
   ]
  },
  {
   "cell_type": "code",
   "execution_count": 18,
   "id": "659112da-3a9e-49f0-829b-959081ab6d2e",
   "metadata": {},
   "outputs": [],
   "source": [
    "DATADIR = './data/beijing_multi_site_air_quality'"
   ]
  },
  {
   "cell_type": "code",
   "execution_count": 19,
   "id": "3d5ee4ee-dd66-4587-975a-6cba0997c994",
   "metadata": {},
   "outputs": [],
   "source": [
    "with ZipFile(f'{DATADIR}/beijing+multi+site+air+quality+data.zip', 'r') as zipObj:\n",
    "   zipObj.extractall(path=f'{DATADIR}/')"
   ]
  },
  {
   "cell_type": "markdown",
   "id": "10609525-0a47-46d2-aef3-a297389765eb",
   "metadata": {},
   "source": [
    "## References\n",
    "* [Zhang et al. - Cautionary tales on air-quality improvement in Beijing](https://royalsocietypublishing.org/doi/10.1098/rspa.2017.0457)"
   ]
  },
  {
   "cell_type": "code",
   "execution_count": null,
   "id": "7e1743b3-8ce8-4c39-be15-902c505ece08",
   "metadata": {},
   "outputs": [],
   "source": []
  }
 ],
 "metadata": {
  "kernelspec": {
   "display_name": "Python 3 (ipykernel)",
   "language": "python",
   "name": "python3"
  },
  "language_info": {
   "codemirror_mode": {
    "name": "ipython",
    "version": 3
   },
   "file_extension": ".py",
   "mimetype": "text/x-python",
   "name": "python",
   "nbconvert_exporter": "python",
   "pygments_lexer": "ipython3",
   "version": "3.12.5"
  }
 },
 "nbformat": 4,
 "nbformat_minor": 5
}

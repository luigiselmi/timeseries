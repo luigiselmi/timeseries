{
 "cells": [
  {
   "cell_type": "markdown",
   "id": "cf86475f-cc8b-4a18-8716-d0d896907ae1",
   "metadata": {},
   "source": [
    "# LSTM for Time Series\n",
    "\n",
    "The neural network models, based on fully connected layers, that we used in previous examples to forecast the traffic volume do not consider the order of the observations. The observations are implicitely assumed to be indipendent. We know that an observation made at time $t$ depends on past observations. A neural network based on a stack of fully connected layers is not able to memorize and use previous information. For this reason other architectures have been developed to handle ordered sequences of data. "
   ]
  },
  {
   "cell_type": "markdown",
   "id": "1c83d410-4bcf-4486-801c-61ea31aea248",
   "metadata": {},
   "source": [
    "## Recurrent Neural Network (RNN)\n",
    "A RNN is a model in which each unit of a layer takes as input an element of the input sequence and the output of the previous unit. The output of each unit is copied and passed to the next unit as shown in the figure. The number of units depends on the length of the sequences but is usually set to a multiple of 2, e.g. 32. The number of RNN layers depends on the complexity of the sequence.\n",
    "\n",
    "![RNN](images/recurrent_neural_network.svg)\n",
    "\n",
    "## Long Short-Term Memory Network (LSTM)\n",
    "A LSTM is a type of RNN that adds a cell state as input to the element of input sequence and the output of the previous unit. A LSTM unit apply several activation functions and operations to those inputs as shown in the figure. These operations allow the model to learn which elements in the sequence are more useful to forecast the next element. All the functional element within a LSTM unit are implemented as neural network layers so that they can be trained using the same algorithms.\n",
    "\n",
    "![LSTM](images/long_short-term_memory.svg)\n",
    "\n",
    "In our case, with the traffic data, we will use sequences of 24 hourly observations. Each element $X_t$ of the input sequence is a set of feature values: cloud coverage, day_sin, day_cos, and temperature. The corresponding label is the traffic volume. "
   ]
  },
  {
   "cell_type": "code",
   "execution_count": 1,
   "id": "488ee37c-161b-42a4-8249-1b5fcabb48da",
   "metadata": {},
   "outputs": [
    {
     "ename": "ModuleNotFoundError",
     "evalue": "No module named 'tensorflow'",
     "output_type": "error",
     "traceback": [
      "\u001b[1;31m---------------------------------------------------------------------------\u001b[0m",
      "\u001b[1;31mModuleNotFoundError\u001b[0m                       Traceback (most recent call last)",
      "Cell \u001b[1;32mIn[1], line 7\u001b[0m\n\u001b[0;32m      5\u001b[0m \u001b[38;5;28;01mimport\u001b[39;00m \u001b[38;5;21;01mmatplotlib\u001b[39;00m\u001b[38;5;21;01m.\u001b[39;00m\u001b[38;5;21;01mpyplot\u001b[39;00m \u001b[38;5;28;01mas\u001b[39;00m \u001b[38;5;21;01mplt\u001b[39;00m\n\u001b[0;32m      6\u001b[0m \u001b[38;5;28;01mimport\u001b[39;00m \u001b[38;5;21;01mdatetime\u001b[39;00m\n\u001b[1;32m----> 7\u001b[0m \u001b[38;5;28;01mimport\u001b[39;00m \u001b[38;5;21;01mtensorflow\u001b[39;00m \u001b[38;5;28;01mas\u001b[39;00m \u001b[38;5;21;01mtf\u001b[39;00m\n\u001b[0;32m      8\u001b[0m \u001b[38;5;28;01mimport\u001b[39;00m \u001b[38;5;21;01mkeras\u001b[39;00m\n\u001b[0;32m      9\u001b[0m \u001b[38;5;28;01mfrom\u001b[39;00m \u001b[38;5;21;01mkeras\u001b[39;00m \u001b[38;5;28;01mimport\u001b[39;00m layers\n",
      "\u001b[1;31mModuleNotFoundError\u001b[0m: No module named 'tensorflow'"
     ]
    }
   ],
   "source": [
    "import numpy as np\n",
    "import pandas as pd\n",
    "import requests\n",
    "import matplotlib as mpl\n",
    "import matplotlib.pyplot as plt\n",
    "import datetime\n",
    "import tensorflow as tf\n",
    "import keras\n",
    "from keras import layers\n",
    "print('NumPy version: %s'%np.__version__)\n",
    "print('Pandas version: %s'%pd.__version__)\n",
    "print('Matplotlib version: %s'%mpl.__version__)\n",
    "print('TensorFlow version: %s'%tf.__version__)\n",
    "print('Keras version: %s'%keras.__version__)"
   ]
  },
  {
   "cell_type": "code",
   "execution_count": 2,
   "id": "ac81d412-ee04-4ba7-a5cc-732dccdd0d7a",
   "metadata": {},
   "outputs": [],
   "source": [
    "def download_data(url):\n",
    "  r = requests.get(url)\n",
    "  data_path = url.rsplit('/')[-1]\n",
    "  with open(data_path, 'wb') as f:\n",
    "    f.write(r.content)\n",
    "  return data_path"
   ]
  },
  {
   "cell_type": "code",
   "execution_count": null,
   "id": "671ee4d5-06a4-48e1-8d7b-05e1d6e02dce",
   "metadata": {},
   "outputs": [],
   "source": [
    "train_url = 'https://raw.githubusercontent.com/luigiselmi/timeseries/main/data/metro_interstate_traffic/train.csv'\n",
    "val_url = 'https://raw.githubusercontent.com/luigiselmi/timeseries/main/data/metro_interstate_traffic/val.csv'\n",
    "test_url = 'https://raw.githubusercontent.com/luigiselmi/timeseries/main/data/metro_interstate_traffic/test.csv'\n",
    "train_data = download_data(train_url)\n",
    "val_data = download_data(val_url)\n",
    "test_data = download_data(test_url)\n",
    "train_df = pd.read_csv(train_data, index_col=0)\n",
    "val_df = pd.read_csv(val_data, index_col=0)\n",
    "test_df = pd.read_csv(test_data, index_col=0)\n",
    "\n",
    "print(train_df.shape, val_df.shape, test_df.shape)"
   ]
  },
  {
   "cell_type": "markdown",
   "id": "4b70c978-8f51-422e-b729-d0aba4e44683",
   "metadata": {},
   "source": [
    "## References\n",
    "* [Colah - Understanding LSTM networks](https://colah.github.io/posts/2015-08-Understanding-LSTMs/)"
   ]
  },
  {
   "cell_type": "code",
   "execution_count": null,
   "id": "0c4c4ca4-5a49-4018-a6f3-c65a569fdf6d",
   "metadata": {},
   "outputs": [],
   "source": []
  }
 ],
 "metadata": {
  "kernelspec": {
   "display_name": "Python 3 (ipykernel)",
   "language": "python",
   "name": "python3"
  },
  "language_info": {
   "codemirror_mode": {
    "name": "ipython",
    "version": 3
   },
   "file_extension": ".py",
   "mimetype": "text/x-python",
   "name": "python",
   "nbconvert_exporter": "python",
   "pygments_lexer": "ipython3",
   "version": "3.12.5"
  }
 },
 "nbformat": 4,
 "nbformat_minor": 5
}
